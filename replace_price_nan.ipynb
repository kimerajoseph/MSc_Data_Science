{
 "cells": [
  {
   "cell_type": "code",
   "execution_count": 22,
   "metadata": {},
   "outputs": [],
   "source": [
    "import pandas as pd\n",
    "import seaborn as sns\n",
    "import matplotlib.pyplot as plt\n",
    "import numpy as np\n",
    "from sklearn.metrics.pairwise import cosine_similarity"
   ]
  },
  {
   "cell_type": "code",
   "execution_count": 23,
   "metadata": {},
   "outputs": [
    {
     "data": {
      "text/html": [
       "<div>\n",
       "<style scoped>\n",
       "    .dataframe tbody tr th:only-of-type {\n",
       "        vertical-align: middle;\n",
       "    }\n",
       "\n",
       "    .dataframe tbody tr th {\n",
       "        vertical-align: top;\n",
       "    }\n",
       "\n",
       "    .dataframe thead th {\n",
       "        text-align: right;\n",
       "    }\n",
       "</style>\n",
       "<table border=\"1\" class=\"dataframe\">\n",
       "  <thead>\n",
       "    <tr style=\"text-align: right;\">\n",
       "      <th></th>\n",
       "      <th>price</th>\n",
       "      <th>bedrooms</th>\n",
       "      <th>bathrooms</th>\n",
       "      <th>sqft_living</th>\n",
       "      <th>sqft_total</th>\n",
       "      <th>floors</th>\n",
       "      <th>condition</th>\n",
       "      <th>grade</th>\n",
       "      <th>built</th>\n",
       "      <th>renovated</th>\n",
       "      <th>living_area_sqft</th>\n",
       "    </tr>\n",
       "  </thead>\n",
       "  <tbody>\n",
       "    <tr>\n",
       "      <th>0</th>\n",
       "      <td>221900.0</td>\n",
       "      <td>3.0</td>\n",
       "      <td>1.0</td>\n",
       "      <td>1180.0</td>\n",
       "      <td>5650.0</td>\n",
       "      <td>1.0</td>\n",
       "      <td>3.0</td>\n",
       "      <td>7</td>\n",
       "      <td>1955.0</td>\n",
       "      <td>0</td>\n",
       "      <td>1340.0</td>\n",
       "    </tr>\n",
       "    <tr>\n",
       "      <th>1</th>\n",
       "      <td>538000.0</td>\n",
       "      <td>3.0</td>\n",
       "      <td>NaN</td>\n",
       "      <td>2570.0</td>\n",
       "      <td>7242.0</td>\n",
       "      <td>2.0</td>\n",
       "      <td>3.0</td>\n",
       "      <td>7</td>\n",
       "      <td>1951.0</td>\n",
       "      <td>1991</td>\n",
       "      <td>1690.0</td>\n",
       "    </tr>\n",
       "    <tr>\n",
       "      <th>2</th>\n",
       "      <td>180000.0</td>\n",
       "      <td>2.0</td>\n",
       "      <td>1.0</td>\n",
       "      <td>770.0</td>\n",
       "      <td>10000.0</td>\n",
       "      <td>1.0</td>\n",
       "      <td>3.0</td>\n",
       "      <td>6</td>\n",
       "      <td>1933.0</td>\n",
       "      <td>0</td>\n",
       "      <td>2720.0</td>\n",
       "    </tr>\n",
       "    <tr>\n",
       "      <th>3</th>\n",
       "      <td>604000.0</td>\n",
       "      <td>4.0</td>\n",
       "      <td>3.0</td>\n",
       "      <td>1960.0</td>\n",
       "      <td>5000.0</td>\n",
       "      <td>1.0</td>\n",
       "      <td>5.0</td>\n",
       "      <td>7</td>\n",
       "      <td>1965.0</td>\n",
       "      <td>0</td>\n",
       "      <td>1360.0</td>\n",
       "    </tr>\n",
       "    <tr>\n",
       "      <th>4</th>\n",
       "      <td>510000.0</td>\n",
       "      <td>3.0</td>\n",
       "      <td>2.0</td>\n",
       "      <td>1680.0</td>\n",
       "      <td>8080.0</td>\n",
       "      <td>1.0</td>\n",
       "      <td>3.0</td>\n",
       "      <td>8</td>\n",
       "      <td>1987.0</td>\n",
       "      <td>0</td>\n",
       "      <td>1800.0</td>\n",
       "    </tr>\n",
       "  </tbody>\n",
       "</table>\n",
       "</div>"
      ],
      "text/plain": [
       "      price  bedrooms  bathrooms  sqft_living  sqft_total  floors  condition  \\\n",
       "0  221900.0       3.0        1.0       1180.0      5650.0     1.0        3.0   \n",
       "1  538000.0       3.0        NaN       2570.0      7242.0     2.0        3.0   \n",
       "2  180000.0       2.0        1.0        770.0     10000.0     1.0        3.0   \n",
       "3  604000.0       4.0        3.0       1960.0      5000.0     1.0        5.0   \n",
       "4  510000.0       3.0        2.0       1680.0      8080.0     1.0        3.0   \n",
       "\n",
       "   grade   built  renovated  living_area_sqft  \n",
       "0      7  1955.0          0            1340.0  \n",
       "1      7  1951.0       1991            1690.0  \n",
       "2      6  1933.0          0            2720.0  \n",
       "3      7  1965.0          0            1360.0  \n",
       "4      8  1987.0          0            1800.0  "
      ]
     },
     "execution_count": 23,
     "metadata": {},
     "output_type": "execute_result"
    }
   ],
   "source": [
    "data_ll = pd.read_excel(\"../Paris housing Data Set 2 4050.xlsx\")\n",
    "data = data_ll.copy(deep=True)\n",
    "data.head()"
   ]
  },
  {
   "cell_type": "code",
   "execution_count": 24,
   "metadata": {},
   "outputs": [],
   "source": [
    "#data.isna().sum()"
   ]
  },
  {
   "cell_type": "code",
   "execution_count": 25,
   "metadata": {},
   "outputs": [
    {
     "name": "stderr",
     "output_type": "stream",
     "text": [
      "C:\\Users\\HP\\AppData\\Local\\Temp\\ipykernel_15392\\4027092775.py:4: SettingWithCopyWarning: \n",
      "A value is trying to be set on a copy of a slice from a DataFrame\n",
      "\n",
      "See the caveats in the documentation: https://pandas.pydata.org/pandas-docs/stable/user_guide/indexing.html#returning-a-view-versus-a-copy\n",
      "  data_without_price.drop(columns=['index'], inplace=True)\n"
     ]
    }
   ],
   "source": [
    "data_without_price = data[data.price.isna()]\n",
    "data_without_price.reset_index(inplace=True)\n",
    "dict_from_df_index = dict(zip( data_without_price.index, data_without_price[\"index\"]))\n",
    "data_without_price.drop(columns=['index'], inplace=True)\n",
    "# print(dict_from_df_index)\n",
    "# data_without_price"
   ]
  },
  {
   "cell_type": "code",
   "execution_count": 26,
   "metadata": {},
   "outputs": [
    {
     "data": {
      "text/plain": [
       "count    1.999500e+04\n",
       "mean     5.353944e+05\n",
       "std      3.659217e+05\n",
       "min      7.500000e+04\n",
       "25%      3.170000e+05\n",
       "50%      4.499000e+05\n",
       "75%      6.400000e+05\n",
       "max      7.700000e+06\n",
       "Name: price, dtype: float64"
      ]
     },
     "execution_count": 26,
     "metadata": {},
     "output_type": "execute_result"
    }
   ],
   "source": [
    "data.price.describe()"
   ]
  },
  {
   "cell_type": "code",
   "execution_count": 27,
   "metadata": {},
   "outputs": [
    {
     "data": {
      "text/plain": [
       "price               0\n",
       "bedrooms            0\n",
       "bathrooms           0\n",
       "sqft_living         0\n",
       "sqft_total          0\n",
       "floors              0\n",
       "condition           0\n",
       "grade               0\n",
       "built               0\n",
       "renovated           0\n",
       "living_area_sqft    0\n",
       "dtype: int64"
      ]
     },
     "execution_count": 27,
     "metadata": {},
     "output_type": "execute_result"
    }
   ],
   "source": [
    "# drop all rows with nan from data\n",
    "data_without_nan = data.dropna()\n",
    "data_without_nan.isna().sum()"
   ]
  },
  {
   "cell_type": "markdown",
   "metadata": {},
   "source": [
    "### ONLY CONSIDER COLUMNS WITH A HIGH CORELLATION TO PRICE (>= 0.5)"
   ]
  },
  {
   "cell_type": "code",
   "execution_count": 28,
   "metadata": {},
   "outputs": [
    {
     "data": {
      "text/html": [
       "<div>\n",
       "<style scoped>\n",
       "    .dataframe tbody tr th:only-of-type {\n",
       "        vertical-align: middle;\n",
       "    }\n",
       "\n",
       "    .dataframe tbody tr th {\n",
       "        vertical-align: top;\n",
       "    }\n",
       "\n",
       "    .dataframe thead th {\n",
       "        text-align: right;\n",
       "    }\n",
       "</style>\n",
       "<table border=\"1\" class=\"dataframe\">\n",
       "  <thead>\n",
       "    <tr style=\"text-align: right;\">\n",
       "      <th></th>\n",
       "      <th>price</th>\n",
       "      <th>grade</th>\n",
       "      <th>bathrooms</th>\n",
       "      <th>sqft_living</th>\n",
       "      <th>living_area_sqft</th>\n",
       "    </tr>\n",
       "  </thead>\n",
       "  <tbody>\n",
       "    <tr>\n",
       "      <th>0</th>\n",
       "      <td>NaN</td>\n",
       "      <td>9</td>\n",
       "      <td>2.25</td>\n",
       "      <td>2240.0</td>\n",
       "      <td>2440.0</td>\n",
       "    </tr>\n",
       "    <tr>\n",
       "      <th>1</th>\n",
       "      <td>NaN</td>\n",
       "      <td>7</td>\n",
       "      <td>1.50</td>\n",
       "      <td>1140.0</td>\n",
       "      <td>1200.0</td>\n",
       "    </tr>\n",
       "    <tr>\n",
       "      <th>2</th>\n",
       "      <td>NaN</td>\n",
       "      <td>10</td>\n",
       "      <td>2.75</td>\n",
       "      <td>3330.0</td>\n",
       "      <td>2390.0</td>\n",
       "    </tr>\n",
       "    <tr>\n",
       "      <th>3</th>\n",
       "      <td>NaN</td>\n",
       "      <td>10</td>\n",
       "      <td>2.50</td>\n",
       "      <td>2880.0</td>\n",
       "      <td>2640.0</td>\n",
       "    </tr>\n",
       "  </tbody>\n",
       "</table>\n",
       "</div>"
      ],
      "text/plain": [
       "   price  grade  bathrooms  sqft_living  living_area_sqft\n",
       "0    NaN      9       2.25       2240.0            2440.0\n",
       "1    NaN      7       1.50       1140.0            1200.0\n",
       "2    NaN     10       2.75       3330.0            2390.0\n",
       "3    NaN     10       2.50       2880.0            2640.0"
      ]
     },
     "execution_count": 28,
     "metadata": {},
     "output_type": "execute_result"
    }
   ],
   "source": [
    "column_list = ['price','grade','bathrooms','sqft_living','living_area_sqft']\n",
    "data_without_price = data_without_price[column_list]\n",
    "data_without_price"
   ]
  },
  {
   "cell_type": "code",
   "execution_count": 29,
   "metadata": {},
   "outputs": [
    {
     "data": {
      "text/plain": [
       "[9.0, 2.25, 2240.0, 2440.0]"
      ]
     },
     "execution_count": 29,
     "metadata": {},
     "output_type": "execute_result"
    }
   ],
   "source": [
    "row_data = data_without_price.iloc[0].values.tolist()\n",
    "row_data[1:]"
   ]
  },
  {
   "cell_type": "code",
   "execution_count": 30,
   "metadata": {},
   "outputs": [
    {
     "data": {
      "text/html": [
       "<div>\n",
       "<style scoped>\n",
       "    .dataframe tbody tr th:only-of-type {\n",
       "        vertical-align: middle;\n",
       "    }\n",
       "\n",
       "    .dataframe tbody tr th {\n",
       "        vertical-align: top;\n",
       "    }\n",
       "\n",
       "    .dataframe thead th {\n",
       "        text-align: right;\n",
       "    }\n",
       "</style>\n",
       "<table border=\"1\" class=\"dataframe\">\n",
       "  <thead>\n",
       "    <tr style=\"text-align: right;\">\n",
       "      <th></th>\n",
       "      <th>price</th>\n",
       "      <th>grade</th>\n",
       "      <th>bathrooms</th>\n",
       "      <th>sqft_living</th>\n",
       "      <th>living_area_sqft</th>\n",
       "    </tr>\n",
       "  </thead>\n",
       "  <tbody>\n",
       "    <tr>\n",
       "      <th>0</th>\n",
       "      <td>221900.0</td>\n",
       "      <td>7</td>\n",
       "      <td>1.00</td>\n",
       "      <td>1180.0</td>\n",
       "      <td>1340.0</td>\n",
       "    </tr>\n",
       "    <tr>\n",
       "      <th>1</th>\n",
       "      <td>604000.0</td>\n",
       "      <td>7</td>\n",
       "      <td>3.00</td>\n",
       "      <td>1960.0</td>\n",
       "      <td>1360.0</td>\n",
       "    </tr>\n",
       "    <tr>\n",
       "      <th>2</th>\n",
       "      <td>510000.0</td>\n",
       "      <td>8</td>\n",
       "      <td>2.00</td>\n",
       "      <td>1680.0</td>\n",
       "      <td>1800.0</td>\n",
       "    </tr>\n",
       "    <tr>\n",
       "      <th>3</th>\n",
       "      <td>257500.0</td>\n",
       "      <td>7</td>\n",
       "      <td>2.25</td>\n",
       "      <td>1715.0</td>\n",
       "      <td>2238.0</td>\n",
       "    </tr>\n",
       "    <tr>\n",
       "      <th>4</th>\n",
       "      <td>229500.0</td>\n",
       "      <td>7</td>\n",
       "      <td>1.00</td>\n",
       "      <td>1780.0</td>\n",
       "      <td>1780.0</td>\n",
       "    </tr>\n",
       "    <tr>\n",
       "      <th>...</th>\n",
       "      <td>...</td>\n",
       "      <td>...</td>\n",
       "      <td>...</td>\n",
       "      <td>...</td>\n",
       "      <td>...</td>\n",
       "    </tr>\n",
       "    <tr>\n",
       "      <th>14014</th>\n",
       "      <td>439108.0</td>\n",
       "      <td>8</td>\n",
       "      <td>1.50</td>\n",
       "      <td>1130.0</td>\n",
       "      <td>1310.0</td>\n",
       "    </tr>\n",
       "    <tr>\n",
       "      <th>14015</th>\n",
       "      <td>260000.0</td>\n",
       "      <td>7</td>\n",
       "      <td>2.25</td>\n",
       "      <td>1489.0</td>\n",
       "      <td>1584.0</td>\n",
       "    </tr>\n",
       "    <tr>\n",
       "      <th>14016</th>\n",
       "      <td>279000.0</td>\n",
       "      <td>7</td>\n",
       "      <td>2.50</td>\n",
       "      <td>2690.0</td>\n",
       "      <td>2090.0</td>\n",
       "    </tr>\n",
       "    <tr>\n",
       "      <th>14017</th>\n",
       "      <td>380000.0</td>\n",
       "      <td>7</td>\n",
       "      <td>2.25</td>\n",
       "      <td>1530.0</td>\n",
       "      <td>1320.0</td>\n",
       "    </tr>\n",
       "    <tr>\n",
       "      <th>14018</th>\n",
       "      <td>287000.0</td>\n",
       "      <td>8</td>\n",
       "      <td>2.50</td>\n",
       "      <td>1600.0</td>\n",
       "      <td>1608.0</td>\n",
       "    </tr>\n",
       "  </tbody>\n",
       "</table>\n",
       "<p>14019 rows × 5 columns</p>\n",
       "</div>"
      ],
      "text/plain": [
       "          price  grade  bathrooms  sqft_living  living_area_sqft\n",
       "0      221900.0      7       1.00       1180.0            1340.0\n",
       "1      604000.0      7       3.00       1960.0            1360.0\n",
       "2      510000.0      8       2.00       1680.0            1800.0\n",
       "3      257500.0      7       2.25       1715.0            2238.0\n",
       "4      229500.0      7       1.00       1780.0            1780.0\n",
       "...         ...    ...        ...          ...               ...\n",
       "14014  439108.0      8       1.50       1130.0            1310.0\n",
       "14015  260000.0      7       2.25       1489.0            1584.0\n",
       "14016  279000.0      7       2.50       2690.0            2090.0\n",
       "14017  380000.0      7       2.25       1530.0            1320.0\n",
       "14018  287000.0      8       2.50       1600.0            1608.0\n",
       "\n",
       "[14019 rows x 5 columns]"
      ]
     },
     "execution_count": 30,
     "metadata": {},
     "output_type": "execute_result"
    }
   ],
   "source": [
    "# filter out only our target columns\n",
    "data_without_nan = data_without_nan[column_list]\n",
    "filtered_df = data_without_nan[\n",
    "    (data_without_nan[\"grade\"].between(7, 10)) & \n",
    "    (data_without_nan[\"bathrooms\"].between(1, 3)) & \n",
    "    (data_without_nan[\"sqft_living\"].between(1100, 3340)) & \n",
    "    (data_without_nan[\"living_area_sqft\"].between(1190, 26650))\n",
    "].reset_index(drop=True)  # Reset index\n",
    " \n",
    "filtered_df"
   ]
  },
  {
   "cell_type": "code",
   "execution_count": 31,
   "metadata": {},
   "outputs": [],
   "source": [
    "# # Target row\n",
    "# target_row = np.array([row_data[1:]])  # Convert to 2D array\n",
    "\n",
    "# # Compute cosine similarity\n",
    "# similarities = cosine_similarity(filtered_df.iloc[:,1:].values, target_row)\n",
    "\n",
    "# # Add similarity scores to the DataFrame\n",
    "# filtered_df['similarity'] = similarities.round(2)\n",
    "\n",
    "# # Sort by highest similarity\n",
    "# df_sorted = filtered_df.sort_values(by='similarity', ascending=False)\n",
    "# #df_sorted = df_sorted[df_sorted['similarity'] > 0.9999]\n",
    "# df_sorted"
   ]
  },
  {
   "cell_type": "code",
   "execution_count": 32,
   "metadata": {},
   "outputs": [],
   "source": [
    "#[nan, 9.0, 2.25, 2240.0, 2440.0]\n",
    "# new_df = df_sorted[\n",
    "#     (df_sorted[\"grade\"] == 9.0) & \n",
    "#     (df_sorted[\"bathrooms\"].between(2.0,2.5)) & \n",
    "#     (df_sorted[\"sqft_living\"].between(2200, 2300)) & \n",
    "#     (df_sorted[\"living_area_sqft\"].between(2400, 2500))\n",
    "# ]\n",
    "# new_df"
   ]
  },
  {
   "cell_type": "code",
   "execution_count": 33,
   "metadata": {},
   "outputs": [],
   "source": [
    "# most correlated value with price is sqft_living and we want to get the house closest to our target in terms of sqft_living\n",
    "# df_sorted[\"rank\"] = (df_sorted[\"sqft_living\"] - 2240).abs().rank(method=\"min\")\n",
    "# new_df = df_sorted.sort_values(by=\"rank\")\n",
    "# new_df\n",
    "\n"
   ]
  },
  {
   "cell_type": "code",
   "execution_count": 34,
   "metadata": {},
   "outputs": [],
   "source": [
    "# get row index from df\n",
    "# get the value of sqft_living\n",
    "# run the cosine_similarity and sort df with similarit\n",
    "# cut off from similarity >= 0.99\n",
    "# rank them by how far they are from the target sqft_living of the row"
   ]
  },
  {
   "cell_type": "code",
   "execution_count": 35,
   "metadata": {},
   "outputs": [
    {
     "name": "stdout",
     "output_type": "stream",
     "text": [
      "price                0\n",
      "bedrooms            15\n",
      "bathrooms           11\n",
      "sqft_living          1\n",
      "sqft_total           5\n",
      "floors               0\n",
      "condition            1\n",
      "grade                0\n",
      "built                1\n",
      "renovated            0\n",
      "living_area_sqft     6\n",
      "dtype: int64\n"
     ]
    },
    {
     "data": {
      "text/html": [
       "<div>\n",
       "<style scoped>\n",
       "    .dataframe tbody tr th:only-of-type {\n",
       "        vertical-align: middle;\n",
       "    }\n",
       "\n",
       "    .dataframe tbody tr th {\n",
       "        vertical-align: top;\n",
       "    }\n",
       "\n",
       "    .dataframe thead th {\n",
       "        text-align: right;\n",
       "    }\n",
       "</style>\n",
       "<table border=\"1\" class=\"dataframe\">\n",
       "  <thead>\n",
       "    <tr style=\"text-align: right;\">\n",
       "      <th></th>\n",
       "      <th>price</th>\n",
       "      <th>grade</th>\n",
       "      <th>bathrooms</th>\n",
       "      <th>sqft_living</th>\n",
       "      <th>living_area_sqft</th>\n",
       "    </tr>\n",
       "  </thead>\n",
       "  <tbody>\n",
       "    <tr>\n",
       "      <th>0</th>\n",
       "      <td>410000.0</td>\n",
       "      <td>9</td>\n",
       "      <td>2.25</td>\n",
       "      <td>2240.0</td>\n",
       "      <td>2440.0</td>\n",
       "    </tr>\n",
       "    <tr>\n",
       "      <th>1</th>\n",
       "      <td>345000.0</td>\n",
       "      <td>7</td>\n",
       "      <td>1.50</td>\n",
       "      <td>1140.0</td>\n",
       "      <td>1200.0</td>\n",
       "    </tr>\n",
       "    <tr>\n",
       "      <th>2</th>\n",
       "      <td>1824100.0</td>\n",
       "      <td>10</td>\n",
       "      <td>2.75</td>\n",
       "      <td>3330.0</td>\n",
       "      <td>2390.0</td>\n",
       "    </tr>\n",
       "    <tr>\n",
       "      <th>3</th>\n",
       "      <td>1989000.0</td>\n",
       "      <td>10</td>\n",
       "      <td>2.50</td>\n",
       "      <td>2880.0</td>\n",
       "      <td>2640.0</td>\n",
       "    </tr>\n",
       "  </tbody>\n",
       "</table>\n",
       "</div>"
      ],
      "text/plain": [
       "       price  grade  bathrooms  sqft_living  living_area_sqft\n",
       "0   410000.0      9       2.25       2240.0            2440.0\n",
       "1   345000.0      7       1.50       1140.0            1200.0\n",
       "2  1824100.0     10       2.75       3330.0            2390.0\n",
       "3  1989000.0     10       2.50       2880.0            2640.0"
      ]
     },
     "execution_count": 35,
     "metadata": {},
     "output_type": "execute_result"
    }
   ],
   "source": [
    "row_data = data_without_price.iloc[0].tolist()\n",
    "row_data\n",
    "index_list = data_without_price.index.tolist()\n",
    "for val in index_list:\n",
    "    orig_data_index = dict_from_df_index[val]\n",
    "    target_df = filtered_df\n",
    "    sqft_living_value = data_without_price['sqft_living'].iloc[val].item()\n",
    "\n",
    "    # Target row\n",
    "    row_data = data_without_price.iloc[val].tolist()\n",
    "    target_row = np.array([row_data[1:]])  # Skip the price\n",
    "\n",
    "    # Compute cosine similarity\n",
    "    if 'similarity' in target_df.columns:\n",
    "        target_df = target_df.drop(columns=['similarity'])\n",
    "    similarities = cosine_similarity(target_df.iloc[:,1:].values, target_row) # also exclude price here\n",
    "\n",
    "    # Add similarity scores to the DataFrame\n",
    "    target_df['similarity'] = similarities.round(2)\n",
    "\n",
    "    # Sort by highest similarity\n",
    "    df_sorted = target_df.sort_values(by='similarity', ascending=False)\n",
    "\n",
    "    # most correlated value with price is sqft_living and we want to get the house closest to our target in terms of sqft_living\n",
    "    df_sorted[\"rank\"] = (df_sorted[\"sqft_living\"] - sqft_living_value).abs().rank(method=\"min\")\n",
    "    new_df = df_sorted.sort_values(by=\"rank\")\n",
    "    #print(new_df.head(2))\n",
    "\n",
    "    # set price value on the data_without_price_df. always pick the row with rank =1, index =0\n",
    "    # set price value on the original df(data). always pick the row with rank =1, index =0\n",
    "    data_without_price.at[val, \"price\"] = new_df['price'].iloc[0].item()\n",
    "    data.at[orig_data_index, \"price\"] = new_df['price'].iloc[0].item()\n",
    "\n",
    "    #del df_sorted, target_df\n",
    "print(data.isna().sum())   \n",
    "data_without_price\n",
    "\n"
   ]
  },
  {
   "cell_type": "code",
   "execution_count": 36,
   "metadata": {},
   "outputs": [
    {
     "data": {
      "text/plain": [
       "count      19999.00\n",
       "mean      535515.74\n",
       "std       366146.37\n",
       "min        75000.00\n",
       "25%       317000.00\n",
       "50%       449900.00\n",
       "75%       640000.00\n",
       "max      7700000.00\n",
       "Name: price, dtype: float64"
      ]
     },
     "execution_count": 36,
     "metadata": {},
     "output_type": "execute_result"
    }
   ],
   "source": [
    "data.price.describe().T.round(2)"
   ]
  },
  {
   "cell_type": "code",
   "execution_count": 37,
   "metadata": {},
   "outputs": [
    {
     "data": {
      "text/plain": [
       "<bound method IndexOpsMixin.value_counts of 0        221900.0\n",
       "1        538000.0\n",
       "2        180000.0\n",
       "3        604000.0\n",
       "4        510000.0\n",
       "           ...   \n",
       "19994    260000.0\n",
       "19995    279000.0\n",
       "19996    380000.0\n",
       "19997    287000.0\n",
       "19998    377000.0\n",
       "Name: price, Length: 19999, dtype: float64>"
      ]
     },
     "execution_count": 37,
     "metadata": {},
     "output_type": "execute_result"
    }
   ],
   "source": [
    "data.price.value_counts"
   ]
  },
  {
   "cell_type": "code",
   "execution_count": 38,
   "metadata": {},
   "outputs": [
    {
     "data": {
      "text/plain": [
       "885"
      ]
     },
     "execution_count": 38,
     "metadata": {},
     "output_type": "execute_result"
    }
   ],
   "source": [
    "len(data[data['price']>1200000])"
   ]
  },
  {
   "cell_type": "code",
   "execution_count": 39,
   "metadata": {},
   "outputs": [
    {
     "data": {
      "text/plain": [
       "462"
      ]
     },
     "execution_count": 39,
     "metadata": {},
     "output_type": "execute_result"
    }
   ],
   "source": [
    "len(data[(data[\"price\"].between(1000000,1200000))])"
   ]
  },
  {
   "cell_type": "code",
   "execution_count": 40,
   "metadata": {},
   "outputs": [
    {
     "data": {
      "text/plain": [
       "1406"
      ]
     },
     "execution_count": 40,
     "metadata": {},
     "output_type": "execute_result"
    }
   ],
   "source": [
    "len(data[(data[\"price\"].between(800000,1000000))])"
   ]
  },
  {
   "cell_type": "code",
   "execution_count": null,
   "metadata": {},
   "outputs": [],
   "source": []
  }
 ],
 "metadata": {
  "kernelspec": {
   "display_name": "msc_ds",
   "language": "python",
   "name": "python3"
  },
  "language_info": {
   "codemirror_mode": {
    "name": "ipython",
    "version": 3
   },
   "file_extension": ".py",
   "mimetype": "text/x-python",
   "name": "python",
   "nbconvert_exporter": "python",
   "pygments_lexer": "ipython3",
   "version": "3.9.21"
  }
 },
 "nbformat": 4,
 "nbformat_minor": 2
}
