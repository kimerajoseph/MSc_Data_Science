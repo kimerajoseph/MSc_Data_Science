{
 "cells": [
  {
   "cell_type": "code",
   "execution_count": null,
   "metadata": {},
   "outputs": [],
   "source": [
    "# Pearson correlation (for normally distributed data)\n",
    "print(df.corr(method='pearson'))\n",
    "\n",
    "# Spearman correlation (for non-normal data)\n",
    "print(df.corr(method='spearman'))\n"
   ]
  },
  {
   "cell_type": "code",
   "execution_count": null,
   "metadata": {},
   "outputs": [],
   "source": [
    "from scipy.stats import chi2_contingency\n",
    "\n",
    "cat_columns = df.select_dtypes(include=['object']).columns\n",
    "for col in cat_columns:\n",
    "    contingency_table = pd.crosstab(df[col], df[cat_columns[0]])  # Adjust for other categorical variables\n",
    "    chi2, p, dof, expected = chi2_contingency(contingency_table)\n",
    "    print(f\"Chi-square test for {col}: p-value = {p}\")\n",
    "# p < 0.05 → Significant relationship."
   ]
  },
  {
   "cell_type": "code",
   "execution_count": null,
   "metadata": {},
   "outputs": [],
   "source": [
    "from scipy.stats import shapiro\n",
    "\n",
    "for column in df.select_dtypes(include=['float64', 'int64']):\n",
    "    stat, p = shapiro(df[column].dropna())\n",
    "    print(f\"{column}: p-value = {p}\")\n",
    "# If p < 0.05, the data is not normally distributed."
   ]
  },
  {
   "cell_type": "code",
   "execution_count": null,
   "metadata": {},
   "outputs": [],
   "source": [
    "import pandas as pd\n",
    "\n",
    "# Load your dataset\n",
    "df = pd.read_csv(\"your_data.csv\")\n",
    "\n",
    "# Summary statistics for numerical variables\n",
    "print(df.describe())\n",
    "\n",
    "# Summary statistics for categorical variables\n",
    "print(df.describe(include=['object']))\n"
   ]
  }
 ],
 "metadata": {
  "language_info": {
   "name": "python"
  }
 },
 "nbformat": 4,
 "nbformat_minor": 2
}
