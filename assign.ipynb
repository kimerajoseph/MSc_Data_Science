{
 "cells": [
  {
   "cell_type": "markdown",
   "id": "b2967c5b",
   "metadata": {},
   "source": [
    "### UK CONFECTIONAERY DATA ANALYSIS"
   ]
  },
  {
   "cell_type": "markdown",
   "id": "a11e723a",
   "metadata": {},
   "source": [
    "#### IMPORTING THE REQUIRED LIBRARIES"
   ]
  },
  {
   "cell_type": "code",
   "execution_count": 169,
   "id": "9f71acea",
   "metadata": {},
   "outputs": [],
   "source": [
    "import pandas as pd\n",
    "import numpy as np\n",
    "from sklearn.preprocessing import MinMaxScaler, StandardScaler\n",
    "from sklearn.impute import KNNImputer"
   ]
  },
  {
   "cell_type": "markdown",
   "id": "ff73215a",
   "metadata": {},
   "source": [
    "### DATA IMPORTATION"
   ]
  },
  {
   "cell_type": "code",
   "execution_count": 170,
   "id": "3208a295",
   "metadata": {},
   "outputs": [],
   "source": [
    "data = pd.read_excel(\"Data set_confectionary_4010.xlsx\", header=0)\n"
   ]
  },
  {
   "cell_type": "code",
   "execution_count": 171,
   "id": "ead5c452",
   "metadata": {},
   "outputs": [
    {
     "data": {
      "text/html": [
       "<div>\n",
       "<style scoped>\n",
       "    .dataframe tbody tr th:only-of-type {\n",
       "        vertical-align: middle;\n",
       "    }\n",
       "\n",
       "    .dataframe tbody tr th {\n",
       "        vertical-align: top;\n",
       "    }\n",
       "\n",
       "    .dataframe thead th {\n",
       "        text-align: right;\n",
       "    }\n",
       "</style>\n",
       "<table border=\"1\" class=\"dataframe\">\n",
       "  <thead>\n",
       "    <tr style=\"text-align: right;\">\n",
       "      <th></th>\n",
       "      <th>Date</th>\n",
       "      <th>Country(UK)</th>\n",
       "      <th>Confectionary</th>\n",
       "      <th>Units Sold</th>\n",
       "      <th>Revenue(£)</th>\n",
       "      <th>Cost(£)</th>\n",
       "      <th>Profit(£)</th>\n",
       "    </tr>\n",
       "  </thead>\n",
       "  <tbody>\n",
       "    <tr>\n",
       "      <th>0</th>\n",
       "      <td>2002-11-11</td>\n",
       "      <td>England</td>\n",
       "      <td>Biscuit</td>\n",
       "      <td>1118.0</td>\n",
       "      <td>5590.0</td>\n",
       "      <td>2459.6</td>\n",
       "      <td>3130.4</td>\n",
       "    </tr>\n",
       "    <tr>\n",
       "      <th>1</th>\n",
       "      <td>2002-07-05</td>\n",
       "      <td>England</td>\n",
       "      <td>Biscuit</td>\n",
       "      <td>708.0</td>\n",
       "      <td>3540.0</td>\n",
       "      <td>1557.6</td>\n",
       "      <td>1982.4</td>\n",
       "    </tr>\n",
       "    <tr>\n",
       "      <th>2</th>\n",
       "      <td>2001-10-31</td>\n",
       "      <td>England</td>\n",
       "      <td>Biscuit</td>\n",
       "      <td>1269.0</td>\n",
       "      <td>6345.0</td>\n",
       "      <td>2791.8</td>\n",
       "      <td>3553.2</td>\n",
       "    </tr>\n",
       "    <tr>\n",
       "      <th>3</th>\n",
       "      <td>2004-09-13</td>\n",
       "      <td>England</td>\n",
       "      <td>Biscuit</td>\n",
       "      <td>1631.0</td>\n",
       "      <td>8155.0</td>\n",
       "      <td>3588.2</td>\n",
       "      <td>4566.8</td>\n",
       "    </tr>\n",
       "    <tr>\n",
       "      <th>4</th>\n",
       "      <td>2004-03-10</td>\n",
       "      <td>England</td>\n",
       "      <td>Biscuit</td>\n",
       "      <td>2240.0</td>\n",
       "      <td>11200.0</td>\n",
       "      <td>4928.0</td>\n",
       "      <td>6272.0</td>\n",
       "    </tr>\n",
       "  </tbody>\n",
       "</table>\n",
       "</div>"
      ],
      "text/plain": [
       "        Date Country(UK) Confectionary  Units Sold  Revenue(£)  Cost(£)  \\\n",
       "0 2002-11-11     England       Biscuit      1118.0      5590.0   2459.6   \n",
       "1 2002-07-05     England       Biscuit       708.0      3540.0   1557.6   \n",
       "2 2001-10-31     England       Biscuit      1269.0      6345.0   2791.8   \n",
       "3 2004-09-13     England       Biscuit      1631.0      8155.0   3588.2   \n",
       "4 2004-03-10     England       Biscuit      2240.0     11200.0   4928.0   \n",
       "\n",
       "   Profit(£)  \n",
       "0     3130.4  \n",
       "1     1982.4  \n",
       "2     3553.2  \n",
       "3     4566.8  \n",
       "4     6272.0  "
      ]
     },
     "execution_count": 171,
     "metadata": {},
     "output_type": "execute_result"
    }
   ],
   "source": [
    "conf_data = data.copy(deep=True)\n",
    "conf_data.head(5)"
   ]
  },
  {
   "cell_type": "markdown",
   "id": "579b6558",
   "metadata": {},
   "source": [
    "### DATA EXPLORATION"
   ]
  },
  {
   "cell_type": "code",
   "execution_count": 172,
   "id": "76030e36",
   "metadata": {},
   "outputs": [
    {
     "name": "stdout",
     "output_type": "stream",
     "text": [
      "Rows: 1001, Columns: 7\n"
     ]
    }
   ],
   "source": [
    "rows, columns = conf_data.shape\n",
    "print(f\"Rows: {rows}, Columns: {columns}\")"
   ]
  },
  {
   "cell_type": "markdown",
   "id": "6b7d7303",
   "metadata": {},
   "source": [
    "### Data column names"
   ]
  },
  {
   "cell_type": "code",
   "execution_count": 173,
   "id": "5444bc7f",
   "metadata": {},
   "outputs": [
    {
     "data": {
      "text/plain": [
       "Index(['Date', 'Country(UK)', 'Confectionary', 'Units Sold', 'Revenue(£)',\n",
       "       'Cost(£)', 'Profit(£)'],\n",
       "      dtype='object')"
      ]
     },
     "execution_count": 173,
     "metadata": {},
     "output_type": "execute_result"
    }
   ],
   "source": [
    "conf_data.columns"
   ]
  },
  {
   "cell_type": "markdown",
   "id": "eced1743",
   "metadata": {},
   "source": [
    "### Rename columns. remove POUNDS sign, replace space with _ etc"
   ]
  },
  {
   "cell_type": "code",
   "execution_count": 174,
   "id": "e23eec72",
   "metadata": {},
   "outputs": [
    {
     "data": {
      "text/plain": [
       "Index(['date', 'country', 'confectionary', 'units_sold', 'revenue', 'cost',\n",
       "       'profit'],\n",
       "      dtype='object')"
      ]
     },
     "execution_count": 174,
     "metadata": {},
     "output_type": "execute_result"
    }
   ],
   "source": [
    "new_columns = []\n",
    "for column in conf_data.columns:\n",
    "    new_col_name = column.replace('£', '').replace('(', '').replace(')', '').replace('uk','').replace(' ','_').lower().strip()\n",
    "    new_columns.append(new_col_name)\n",
    "\n",
    "conf_data.columns = new_columns\n",
    "conf_data.rename(columns={'countryuk': 'country'}, inplace=True)\n",
    "conf_data.columns"
   ]
  },
  {
   "cell_type": "markdown",
   "id": "c8942d14",
   "metadata": {},
   "source": [
    "### Checking the data types"
   ]
  },
  {
   "cell_type": "code",
   "execution_count": 175,
   "id": "dee0e904",
   "metadata": {},
   "outputs": [
    {
     "data": {
      "text/html": [
       "<div>\n",
       "<style scoped>\n",
       "    .dataframe tbody tr th:only-of-type {\n",
       "        vertical-align: middle;\n",
       "    }\n",
       "\n",
       "    .dataframe tbody tr th {\n",
       "        vertical-align: top;\n",
       "    }\n",
       "\n",
       "    .dataframe thead th {\n",
       "        text-align: right;\n",
       "    }\n",
       "</style>\n",
       "<table border=\"1\" class=\"dataframe\">\n",
       "  <thead>\n",
       "    <tr style=\"text-align: right;\">\n",
       "      <th></th>\n",
       "      <th>column</th>\n",
       "      <th>data_type</th>\n",
       "    </tr>\n",
       "  </thead>\n",
       "  <tbody>\n",
       "    <tr>\n",
       "      <th>0</th>\n",
       "      <td>date</td>\n",
       "      <td>datetime64[ns]</td>\n",
       "    </tr>\n",
       "    <tr>\n",
       "      <th>1</th>\n",
       "      <td>country</td>\n",
       "      <td>object</td>\n",
       "    </tr>\n",
       "    <tr>\n",
       "      <th>2</th>\n",
       "      <td>confectionary</td>\n",
       "      <td>object</td>\n",
       "    </tr>\n",
       "    <tr>\n",
       "      <th>3</th>\n",
       "      <td>units_sold</td>\n",
       "      <td>float64</td>\n",
       "    </tr>\n",
       "    <tr>\n",
       "      <th>4</th>\n",
       "      <td>revenue</td>\n",
       "      <td>float64</td>\n",
       "    </tr>\n",
       "    <tr>\n",
       "      <th>5</th>\n",
       "      <td>cost</td>\n",
       "      <td>float64</td>\n",
       "    </tr>\n",
       "    <tr>\n",
       "      <th>6</th>\n",
       "      <td>profit</td>\n",
       "      <td>float64</td>\n",
       "    </tr>\n",
       "  </tbody>\n",
       "</table>\n",
       "</div>"
      ],
      "text/plain": [
       "          column       data_type\n",
       "0           date  datetime64[ns]\n",
       "1        country          object\n",
       "2  confectionary          object\n",
       "3     units_sold         float64\n",
       "4        revenue         float64\n",
       "5           cost         float64\n",
       "6         profit         float64"
      ]
     },
     "execution_count": 175,
     "metadata": {},
     "output_type": "execute_result"
    }
   ],
   "source": [
    "dtypes_df = pd.DataFrame({\n",
    "    'column': conf_data.columns,\n",
    "    'data_type': conf_data.dtypes\n",
    "    })\n",
    "dtypes_df.reset_index(inplace=True, drop=True)\n",
    "dtypes_df"
   ]
  },
  {
   "cell_type": "markdown",
   "id": "566386be",
   "metadata": {},
   "source": [
    "## Exploring column data"
   ]
  },
  {
   "cell_type": "code",
   "execution_count": 176,
   "id": "ef8d919d",
   "metadata": {},
   "outputs": [
    {
     "data": {
      "text/html": [
       "<div>\n",
       "<style scoped>\n",
       "    .dataframe tbody tr th:only-of-type {\n",
       "        vertical-align: middle;\n",
       "    }\n",
       "\n",
       "    .dataframe tbody tr th {\n",
       "        vertical-align: top;\n",
       "    }\n",
       "\n",
       "    .dataframe thead th {\n",
       "        text-align: right;\n",
       "    }\n",
       "</style>\n",
       "<table border=\"1\" class=\"dataframe\">\n",
       "  <thead>\n",
       "    <tr style=\"text-align: right;\">\n",
       "      <th></th>\n",
       "      <th>column</th>\n",
       "      <th>unique_values</th>\n",
       "    </tr>\n",
       "  </thead>\n",
       "  <tbody>\n",
       "    <tr>\n",
       "      <th>0</th>\n",
       "      <td>date</td>\n",
       "      <td>802</td>\n",
       "    </tr>\n",
       "    <tr>\n",
       "      <th>1</th>\n",
       "      <td>country</td>\n",
       "      <td>5</td>\n",
       "    </tr>\n",
       "    <tr>\n",
       "      <th>2</th>\n",
       "      <td>confectionary</td>\n",
       "      <td>8</td>\n",
       "    </tr>\n",
       "    <tr>\n",
       "      <th>3</th>\n",
       "      <td>units_sold</td>\n",
       "      <td>391</td>\n",
       "    </tr>\n",
       "    <tr>\n",
       "      <th>4</th>\n",
       "      <td>revenue</td>\n",
       "      <td>501</td>\n",
       "    </tr>\n",
       "    <tr>\n",
       "      <th>5</th>\n",
       "      <td>cost</td>\n",
       "      <td>513</td>\n",
       "    </tr>\n",
       "    <tr>\n",
       "      <th>6</th>\n",
       "      <td>profit</td>\n",
       "      <td>511</td>\n",
       "    </tr>\n",
       "  </tbody>\n",
       "</table>\n",
       "</div>"
      ],
      "text/plain": [
       "          column  unique_values\n",
       "0           date            802\n",
       "1        country              5\n",
       "2  confectionary              8\n",
       "3     units_sold            391\n",
       "4        revenue            501\n",
       "5           cost            513\n",
       "6         profit            511"
      ]
     },
     "execution_count": 176,
     "metadata": {},
     "output_type": "execute_result"
    }
   ],
   "source": [
    "unique_values_df = pd.DataFrame({\n",
    "    'column': conf_data.columns,\n",
    "    'unique_values': conf_data.nunique()\n",
    "})\n",
    "unique_values_df.reset_index(inplace=True, drop=True)\n",
    "unique_values_df"
   ]
  },
  {
   "cell_type": "code",
   "execution_count": 177,
   "id": "b672b8e7",
   "metadata": {},
   "outputs": [
    {
     "data": {
      "text/plain": [
       "array(['England', 'Scotland', 'Wales', 'N. Ireland', 'Jersey'],\n",
       "      dtype=object)"
      ]
     },
     "execution_count": 177,
     "metadata": {},
     "output_type": "execute_result"
    }
   ],
   "source": [
    "conf_data.country.unique()"
   ]
  },
  {
   "cell_type": "markdown",
   "id": "d70281a7",
   "metadata": {},
   "source": [
    "### Checking for missing values"
   ]
  },
  {
   "cell_type": "markdown",
   "id": "28877f9e",
   "metadata": {},
   "source": [
    "### Rows without any data"
   ]
  },
  {
   "cell_type": "code",
   "execution_count": 178,
   "id": "ce72937c",
   "metadata": {},
   "outputs": [
    {
     "name": "stdout",
     "output_type": "stream",
     "text": [
      "Rows with no data:  0\n"
     ]
    }
   ],
   "source": [
    "nan_rows_count = conf_data.isna().all(axis=1).sum()\n",
    "print(\"Rows with no data: \",int(nan_rows_count))"
   ]
  },
  {
   "cell_type": "code",
   "execution_count": 179,
   "id": "e84b6d4f",
   "metadata": {},
   "outputs": [
    {
     "data": {
      "text/html": [
       "<div>\n",
       "<style scoped>\n",
       "    .dataframe tbody tr th:only-of-type {\n",
       "        vertical-align: middle;\n",
       "    }\n",
       "\n",
       "    .dataframe tbody tr th {\n",
       "        vertical-align: top;\n",
       "    }\n",
       "\n",
       "    .dataframe thead th {\n",
       "        text-align: right;\n",
       "    }\n",
       "</style>\n",
       "<table border=\"1\" class=\"dataframe\">\n",
       "  <thead>\n",
       "    <tr style=\"text-align: right;\">\n",
       "      <th></th>\n",
       "      <th>column</th>\n",
       "      <th>missing_data</th>\n",
       "      <th>percentages_of_missing_values</th>\n",
       "    </tr>\n",
       "  </thead>\n",
       "  <tbody>\n",
       "    <tr>\n",
       "      <th>0</th>\n",
       "      <td>date</td>\n",
       "      <td>0</td>\n",
       "      <td>0.000000</td>\n",
       "    </tr>\n",
       "    <tr>\n",
       "      <th>1</th>\n",
       "      <td>country</td>\n",
       "      <td>0</td>\n",
       "      <td>0.000000</td>\n",
       "    </tr>\n",
       "    <tr>\n",
       "      <th>2</th>\n",
       "      <td>confectionary</td>\n",
       "      <td>0</td>\n",
       "      <td>0.000000</td>\n",
       "    </tr>\n",
       "    <tr>\n",
       "      <th>3</th>\n",
       "      <td>units_sold</td>\n",
       "      <td>5</td>\n",
       "      <td>0.499500</td>\n",
       "    </tr>\n",
       "    <tr>\n",
       "      <th>4</th>\n",
       "      <td>revenue</td>\n",
       "      <td>9</td>\n",
       "      <td>0.899101</td>\n",
       "    </tr>\n",
       "    <tr>\n",
       "      <th>5</th>\n",
       "      <td>cost</td>\n",
       "      <td>9</td>\n",
       "      <td>0.899101</td>\n",
       "    </tr>\n",
       "    <tr>\n",
       "      <th>6</th>\n",
       "      <td>profit</td>\n",
       "      <td>3</td>\n",
       "      <td>0.299700</td>\n",
       "    </tr>\n",
       "  </tbody>\n",
       "</table>\n",
       "</div>"
      ],
      "text/plain": [
       "          column  missing_data  percentages_of_missing_values\n",
       "0           date             0                       0.000000\n",
       "1        country             0                       0.000000\n",
       "2  confectionary             0                       0.000000\n",
       "3     units_sold             5                       0.499500\n",
       "4        revenue             9                       0.899101\n",
       "5           cost             9                       0.899101\n",
       "6         profit             3                       0.299700"
      ]
     },
     "execution_count": 179,
     "metadata": {},
     "output_type": "execute_result"
    }
   ],
   "source": [
    "nan_per_column = pd.DataFrame({\n",
    "    'column': conf_data.columns,\n",
    "    'missing_data': conf_data.isna().sum(),\n",
    "    'percentages_of_missing_values': (conf_data.isna().sum()/len(conf_data)) * 100\n",
    "})\n",
    "nan_per_column.reset_index(inplace=True, drop=True)\n",
    "nan_per_column"
   ]
  },
  {
   "cell_type": "code",
   "execution_count": 180,
   "id": "31bd403f",
   "metadata": {},
   "outputs": [
    {
     "data": {
      "text/html": [
       "<div>\n",
       "<style scoped>\n",
       "    .dataframe tbody tr th:only-of-type {\n",
       "        vertical-align: middle;\n",
       "    }\n",
       "\n",
       "    .dataframe tbody tr th {\n",
       "        vertical-align: top;\n",
       "    }\n",
       "\n",
       "    .dataframe thead th {\n",
       "        text-align: right;\n",
       "    }\n",
       "</style>\n",
       "<table border=\"1\" class=\"dataframe\">\n",
       "  <thead>\n",
       "    <tr style=\"text-align: right;\">\n",
       "      <th></th>\n",
       "      <th>count</th>\n",
       "      <th>mean</th>\n",
       "      <th>min</th>\n",
       "      <th>25%</th>\n",
       "      <th>50%</th>\n",
       "      <th>75%</th>\n",
       "      <th>max</th>\n",
       "      <th>std</th>\n",
       "    </tr>\n",
       "  </thead>\n",
       "  <tbody>\n",
       "    <tr>\n",
       "      <th>date</th>\n",
       "      <td>1001</td>\n",
       "      <td>2002-11-19 10:54:32.727272832</td>\n",
       "      <td>2000-01-02 00:00:00</td>\n",
       "      <td>2001-05-12 00:00:00</td>\n",
       "      <td>2002-11-10 00:00:00</td>\n",
       "      <td>2004-04-25 00:00:00</td>\n",
       "      <td>2005-12-28 00:00:00</td>\n",
       "      <td>NaN</td>\n",
       "    </tr>\n",
       "    <tr>\n",
       "      <th>units_sold</th>\n",
       "      <td>996.0</td>\n",
       "      <td>1633.360442</td>\n",
       "      <td>200.0</td>\n",
       "      <td>923.0</td>\n",
       "      <td>1530.5</td>\n",
       "      <td>2300.0</td>\n",
       "      <td>4493.0</td>\n",
       "      <td>876.356045</td>\n",
       "    </tr>\n",
       "    <tr>\n",
       "      <th>revenue</th>\n",
       "      <td>992.0</td>\n",
       "      <td>6847.601815</td>\n",
       "      <td>200.0</td>\n",
       "      <td>2993.0</td>\n",
       "      <td>5967.0</td>\n",
       "      <td>9505.0</td>\n",
       "      <td>23988.0</td>\n",
       "      <td>4699.184062</td>\n",
       "    </tr>\n",
       "    <tr>\n",
       "      <th>cost</th>\n",
       "      <td>992.0</td>\n",
       "      <td>2820.190877</td>\n",
       "      <td>40.0</td>\n",
       "      <td>1204.0</td>\n",
       "      <td>2456.8</td>\n",
       "      <td>3977.625</td>\n",
       "      <td>10994.5</td>\n",
       "      <td>2073.969135</td>\n",
       "    </tr>\n",
       "    <tr>\n",
       "      <th>profit</th>\n",
       "      <td>998.0</td>\n",
       "      <td>4012.076052</td>\n",
       "      <td>160.0</td>\n",
       "      <td>1872.4</td>\n",
       "      <td>3459.0</td>\n",
       "      <td>5445.0</td>\n",
       "      <td>13479.0</td>\n",
       "      <td>2648.166312</td>\n",
       "    </tr>\n",
       "  </tbody>\n",
       "</table>\n",
       "</div>"
      ],
      "text/plain": [
       "            count                           mean                  min  \\\n",
       "date         1001  2002-11-19 10:54:32.727272832  2000-01-02 00:00:00   \n",
       "units_sold  996.0                    1633.360442                200.0   \n",
       "revenue     992.0                    6847.601815                200.0   \n",
       "cost        992.0                    2820.190877                 40.0   \n",
       "profit      998.0                    4012.076052                160.0   \n",
       "\n",
       "                            25%                  50%                  75%  \\\n",
       "date        2001-05-12 00:00:00  2002-11-10 00:00:00  2004-04-25 00:00:00   \n",
       "units_sold                923.0               1530.5               2300.0   \n",
       "revenue                  2993.0               5967.0               9505.0   \n",
       "cost                     1204.0               2456.8             3977.625   \n",
       "profit                   1872.4               3459.0               5445.0   \n",
       "\n",
       "                            max          std  \n",
       "date        2005-12-28 00:00:00          NaN  \n",
       "units_sold               4493.0   876.356045  \n",
       "revenue                 23988.0  4699.184062  \n",
       "cost                    10994.5  2073.969135  \n",
       "profit                  13479.0  2648.166312  "
      ]
     },
     "execution_count": 180,
     "metadata": {},
     "output_type": "execute_result"
    }
   ],
   "source": [
    "conf_data.describe().T"
   ]
  },
  {
   "cell_type": "markdown",
   "id": "cc3dea1d",
   "metadata": {},
   "source": [
    "## REPLACEMENT OF NaN"
   ]
  },
  {
   "cell_type": "code",
   "execution_count": 181,
   "id": "1a6d3d5f",
   "metadata": {},
   "outputs": [
    {
     "name": "stdout",
     "output_type": "stream",
     "text": [
      "Number of rows with NaN values is:  25\n",
      "Percentage of rows with NaN values is:  2.5614754098360657\n"
     ]
    }
   ],
   "source": [
    "conf_data_without_nan = conf_data.dropna()\n",
    "rows_with_nan_data = len(conf_data) - len(conf_data_without_nan)\n",
    "print(\"Number of rows with NaN values is: \",rows_with_nan_data)\n",
    "print(\"Percentage of rows with NaN values is: \",(rows_with_nan_data/len(conf_data_without_nan))*100)"
   ]
  },
  {
   "cell_type": "markdown",
   "id": "7d92ced6",
   "metadata": {},
   "source": [
    "### ANALYSIS\n"
   ]
  },
  {
   "cell_type": "code",
   "execution_count": 182,
   "id": "8f3990dd",
   "metadata": {},
   "outputs": [],
   "source": [
    "# conf_data['day_name'] = conf_data['date'].dt.day_name()\n",
    "# # Classify as Weekend or Weekday\n",
    "# conf_data['weekend'] = np.where(conf_data['day_name'].isin(['Saturday', 'Sunday']), 'Weekend', 'Weekday')\n",
    "# conf_data.head()\n"
   ]
  },
  {
   "cell_type": "markdown",
   "id": "1982c113",
   "metadata": {},
   "source": [
    "### REPLACE NaN"
   ]
  },
  {
   "cell_type": "markdown",
   "id": "13a3a908",
   "metadata": {},
   "source": [
    "## USE KNN METHOD\n",
    "### Encode categorical data in columns country and confectionary"
   ]
  },
  {
   "cell_type": "code",
   "execution_count": 183,
   "id": "6c4c43cd",
   "metadata": {},
   "outputs": [
    {
     "data": {
      "text/plain": [
       "array(['England', 'Scotland', 'Wales', 'N. Ireland', 'Jersey'],\n",
       "      dtype=object)"
      ]
     },
     "execution_count": 183,
     "metadata": {},
     "output_type": "execute_result"
    }
   ],
   "source": [
    "conf_data.country.unique()"
   ]
  },
  {
   "cell_type": "code",
   "execution_count": 184,
   "id": "bdf9c2bf",
   "metadata": {},
   "outputs": [
    {
     "data": {
      "text/plain": [
       "array(['Biscuit', 'Biscuit Nut', 'Choclate Chunk', 'Caramel nut',\n",
       "       'Caramel', 'Plain', 'Chocolate Chunk', 'Caramel Nut'], dtype=object)"
      ]
     },
     "execution_count": 184,
     "metadata": {},
     "output_type": "execute_result"
    }
   ],
   "source": [
    "conf_data.confectionary.unique()"
   ]
  },
  {
   "cell_type": "code",
   "execution_count": 185,
   "id": "5e639331",
   "metadata": {},
   "outputs": [
    {
     "name": "stdout",
     "output_type": "stream",
     "text": [
      "[1 2 3 4 5]\n"
     ]
    },
    {
     "data": {
      "text/plain": [
       "array([1, 2, 3, 4, 5, 6, 7, 8], dtype=int64)"
      ]
     },
     "execution_count": 185,
     "metadata": {},
     "output_type": "execute_result"
    }
   ],
   "source": [
    "# Define mappings\n",
    "country_map = {'England': 1, 'Scotland': 2, 'Wales': 3, 'N. Ireland': 4, 'Jersey': 5}\n",
    "confectionary_map = {'Biscuit':1, 'Biscuit Nut': 2, 'Choclate Chunk': 3, 'Caramel nut':4,\n",
    "       'Caramel':5, 'Plain':6, 'Chocolate Chunk':7, 'Caramel Nut':8}\n",
    "\n",
    "# Apply mappings\n",
    "conf_data['country'] = conf_data['country'].map(country_map)\n",
    "conf_data['confectionary'] = conf_data['confectionary'].map(confectionary_map)\n",
    "print(conf_data.country.unique())\n",
    "conf_data.confectionary.unique()"
   ]
  },
  {
   "cell_type": "code",
   "execution_count": 186,
   "id": "af4c6fbf",
   "metadata": {},
   "outputs": [
    {
     "data": {
      "text/html": [
       "<div>\n",
       "<style scoped>\n",
       "    .dataframe tbody tr th:only-of-type {\n",
       "        vertical-align: middle;\n",
       "    }\n",
       "\n",
       "    .dataframe tbody tr th {\n",
       "        vertical-align: top;\n",
       "    }\n",
       "\n",
       "    .dataframe thead th {\n",
       "        text-align: right;\n",
       "    }\n",
       "</style>\n",
       "<table border=\"1\" class=\"dataframe\">\n",
       "  <thead>\n",
       "    <tr style=\"text-align: right;\">\n",
       "      <th></th>\n",
       "      <th>date</th>\n",
       "      <th>country</th>\n",
       "      <th>confectionary</th>\n",
       "      <th>units_sold</th>\n",
       "      <th>revenue</th>\n",
       "      <th>cost</th>\n",
       "      <th>profit</th>\n",
       "    </tr>\n",
       "  </thead>\n",
       "  <tbody>\n",
       "    <tr>\n",
       "      <th>0</th>\n",
       "      <td>2002-11-11</td>\n",
       "      <td>1</td>\n",
       "      <td>1</td>\n",
       "      <td>1118.0</td>\n",
       "      <td>5590.0</td>\n",
       "      <td>2459.6</td>\n",
       "      <td>3130.4</td>\n",
       "    </tr>\n",
       "    <tr>\n",
       "      <th>1</th>\n",
       "      <td>2002-07-05</td>\n",
       "      <td>1</td>\n",
       "      <td>1</td>\n",
       "      <td>708.0</td>\n",
       "      <td>3540.0</td>\n",
       "      <td>1557.6</td>\n",
       "      <td>1982.4</td>\n",
       "    </tr>\n",
       "    <tr>\n",
       "      <th>2</th>\n",
       "      <td>2001-10-31</td>\n",
       "      <td>1</td>\n",
       "      <td>1</td>\n",
       "      <td>1269.0</td>\n",
       "      <td>6345.0</td>\n",
       "      <td>2791.8</td>\n",
       "      <td>3553.2</td>\n",
       "    </tr>\n",
       "    <tr>\n",
       "      <th>3</th>\n",
       "      <td>2004-09-13</td>\n",
       "      <td>1</td>\n",
       "      <td>1</td>\n",
       "      <td>1631.0</td>\n",
       "      <td>8155.0</td>\n",
       "      <td>3588.2</td>\n",
       "      <td>4566.8</td>\n",
       "    </tr>\n",
       "    <tr>\n",
       "      <th>4</th>\n",
       "      <td>2004-03-10</td>\n",
       "      <td>1</td>\n",
       "      <td>1</td>\n",
       "      <td>2240.0</td>\n",
       "      <td>11200.0</td>\n",
       "      <td>4928.0</td>\n",
       "      <td>6272.0</td>\n",
       "    </tr>\n",
       "  </tbody>\n",
       "</table>\n",
       "</div>"
      ],
      "text/plain": [
       "        date  country  confectionary  units_sold  revenue    cost  profit\n",
       "0 2002-11-11        1              1      1118.0   5590.0  2459.6  3130.4\n",
       "1 2002-07-05        1              1       708.0   3540.0  1557.6  1982.4\n",
       "2 2001-10-31        1              1      1269.0   6345.0  2791.8  3553.2\n",
       "3 2004-09-13        1              1      1631.0   8155.0  3588.2  4566.8\n",
       "4 2004-03-10        1              1      2240.0  11200.0  4928.0  6272.0"
      ]
     },
     "execution_count": 186,
     "metadata": {},
     "output_type": "execute_result"
    }
   ],
   "source": [
    "conf_data.head()"
   ]
  },
  {
   "cell_type": "markdown",
   "id": "ec13e55d",
   "metadata": {},
   "source": [
    "### drop date column "
   ]
  },
  {
   "cell_type": "code",
   "execution_count": 187,
   "id": "ed7d8abd",
   "metadata": {},
   "outputs": [
    {
     "data": {
      "text/html": [
       "<div>\n",
       "<style scoped>\n",
       "    .dataframe tbody tr th:only-of-type {\n",
       "        vertical-align: middle;\n",
       "    }\n",
       "\n",
       "    .dataframe tbody tr th {\n",
       "        vertical-align: top;\n",
       "    }\n",
       "\n",
       "    .dataframe thead th {\n",
       "        text-align: right;\n",
       "    }\n",
       "</style>\n",
       "<table border=\"1\" class=\"dataframe\">\n",
       "  <thead>\n",
       "    <tr style=\"text-align: right;\">\n",
       "      <th></th>\n",
       "      <th>country</th>\n",
       "      <th>confectionary</th>\n",
       "      <th>units_sold</th>\n",
       "      <th>revenue</th>\n",
       "      <th>cost</th>\n",
       "      <th>profit</th>\n",
       "    </tr>\n",
       "  </thead>\n",
       "  <tbody>\n",
       "    <tr>\n",
       "      <th>0</th>\n",
       "      <td>1</td>\n",
       "      <td>1</td>\n",
       "      <td>1118.0</td>\n",
       "      <td>5590.0</td>\n",
       "      <td>2459.6</td>\n",
       "      <td>3130.4</td>\n",
       "    </tr>\n",
       "    <tr>\n",
       "      <th>1</th>\n",
       "      <td>1</td>\n",
       "      <td>1</td>\n",
       "      <td>708.0</td>\n",
       "      <td>3540.0</td>\n",
       "      <td>1557.6</td>\n",
       "      <td>1982.4</td>\n",
       "    </tr>\n",
       "    <tr>\n",
       "      <th>2</th>\n",
       "      <td>1</td>\n",
       "      <td>1</td>\n",
       "      <td>1269.0</td>\n",
       "      <td>6345.0</td>\n",
       "      <td>2791.8</td>\n",
       "      <td>3553.2</td>\n",
       "    </tr>\n",
       "    <tr>\n",
       "      <th>3</th>\n",
       "      <td>1</td>\n",
       "      <td>1</td>\n",
       "      <td>1631.0</td>\n",
       "      <td>8155.0</td>\n",
       "      <td>3588.2</td>\n",
       "      <td>4566.8</td>\n",
       "    </tr>\n",
       "    <tr>\n",
       "      <th>4</th>\n",
       "      <td>1</td>\n",
       "      <td>1</td>\n",
       "      <td>2240.0</td>\n",
       "      <td>11200.0</td>\n",
       "      <td>4928.0</td>\n",
       "      <td>6272.0</td>\n",
       "    </tr>\n",
       "  </tbody>\n",
       "</table>\n",
       "</div>"
      ],
      "text/plain": [
       "   country  confectionary  units_sold  revenue    cost  profit\n",
       "0        1              1      1118.0   5590.0  2459.6  3130.4\n",
       "1        1              1       708.0   3540.0  1557.6  1982.4\n",
       "2        1              1      1269.0   6345.0  2791.8  3553.2\n",
       "3        1              1      1631.0   8155.0  3588.2  4566.8\n",
       "4        1              1      2240.0  11200.0  4928.0  6272.0"
      ]
     },
     "execution_count": 187,
     "metadata": {},
     "output_type": "execute_result"
    }
   ],
   "source": [
    "knn_data = conf_data.drop(columns=['date'], axis=1)\n",
    "knn_data.head()"
   ]
  },
  {
   "cell_type": "markdown",
   "id": "7fabff79",
   "metadata": {},
   "source": [
    "### Seperate categorical and numerical columns"
   ]
  },
  {
   "cell_type": "code",
   "execution_count": 188,
   "id": "554df240",
   "metadata": {},
   "outputs": [],
   "source": [
    "numerical_cols = ['units_sold', 'revenue', 'cost', 'profit']   \n",
    "categorical_cols = ['country', 'confectionary']    "
   ]
  },
  {
   "cell_type": "code",
   "execution_count": 189,
   "id": "7f6cf2c8",
   "metadata": {},
   "outputs": [],
   "source": [
    "# Scale only numeric columns\n",
    "scaler = MinMaxScaler()\n",
    "#scaler = StandardScaler()\n",
    "scaled_numeric_data = scaler.fit_transform(knn_data[numerical_cols])\n",
    "\n",
    "# Keep categorical columns as they are\n",
    "categorical_data = knn_data[categorical_cols].values\n",
    "\n",
    "full_data = np.hstack((scaled_numeric_data, categorical_data))"
   ]
  },
  {
   "cell_type": "markdown",
   "id": "cd34ac86",
   "metadata": {},
   "source": [
    "### impute the missing values"
   ]
  },
  {
   "cell_type": "code",
   "execution_count": 190,
   "id": "b576c575",
   "metadata": {},
   "outputs": [
    {
     "data": {
      "text/html": [
       "<div>\n",
       "<style scoped>\n",
       "    .dataframe tbody tr th:only-of-type {\n",
       "        vertical-align: middle;\n",
       "    }\n",
       "\n",
       "    .dataframe tbody tr th {\n",
       "        vertical-align: top;\n",
       "    }\n",
       "\n",
       "    .dataframe thead th {\n",
       "        text-align: right;\n",
       "    }\n",
       "</style>\n",
       "<table border=\"1\" class=\"dataframe\">\n",
       "  <thead>\n",
       "    <tr style=\"text-align: right;\">\n",
       "      <th></th>\n",
       "      <th>units_sold</th>\n",
       "      <th>revenue</th>\n",
       "      <th>cost</th>\n",
       "      <th>profit</th>\n",
       "      <th>country</th>\n",
       "      <th>confectionary</th>\n",
       "    </tr>\n",
       "  </thead>\n",
       "  <tbody>\n",
       "    <tr>\n",
       "      <th>0</th>\n",
       "      <td>0.213836</td>\n",
       "      <td>0.226585</td>\n",
       "      <td>0.220877</td>\n",
       "      <td>0.223020</td>\n",
       "      <td>1.0</td>\n",
       "      <td>1.0</td>\n",
       "    </tr>\n",
       "    <tr>\n",
       "      <th>1</th>\n",
       "      <td>0.118332</td>\n",
       "      <td>0.140407</td>\n",
       "      <td>0.138537</td>\n",
       "      <td>0.136827</td>\n",
       "      <td>1.0</td>\n",
       "      <td>1.0</td>\n",
       "    </tr>\n",
       "    <tr>\n",
       "      <th>2</th>\n",
       "      <td>0.249010</td>\n",
       "      <td>0.258324</td>\n",
       "      <td>0.251203</td>\n",
       "      <td>0.254764</td>\n",
       "      <td>1.0</td>\n",
       "      <td>1.0</td>\n",
       "    </tr>\n",
       "    <tr>\n",
       "      <th>3</th>\n",
       "      <td>0.333333</td>\n",
       "      <td>0.334412</td>\n",
       "      <td>0.323903</td>\n",
       "      <td>0.330866</td>\n",
       "      <td>1.0</td>\n",
       "      <td>1.0</td>\n",
       "    </tr>\n",
       "    <tr>\n",
       "      <th>4</th>\n",
       "      <td>0.475192</td>\n",
       "      <td>0.462418</td>\n",
       "      <td>0.446209</td>\n",
       "      <td>0.458893</td>\n",
       "      <td>1.0</td>\n",
       "      <td>1.0</td>\n",
       "    </tr>\n",
       "  </tbody>\n",
       "</table>\n",
       "</div>"
      ],
      "text/plain": [
       "   units_sold   revenue      cost    profit  country  confectionary\n",
       "0    0.213836  0.226585  0.220877  0.223020      1.0            1.0\n",
       "1    0.118332  0.140407  0.138537  0.136827      1.0            1.0\n",
       "2    0.249010  0.258324  0.251203  0.254764      1.0            1.0\n",
       "3    0.333333  0.334412  0.323903  0.330866      1.0            1.0\n",
       "4    0.475192  0.462418  0.446209  0.458893      1.0            1.0"
      ]
     },
     "execution_count": 190,
     "metadata": {},
     "output_type": "execute_result"
    }
   ],
   "source": [
    "# Apply KNN imputer on full data\n",
    "imputer = KNNImputer(n_neighbors=5)\n",
    "imputed_data = imputer.fit_transform(full_data)\n",
    "\n",
    "column_names = ['units_sold', 'revenue', 'cost', 'profit','country', 'confectionary'] # ALWAYS START WITH NUMERICAL,THEN CATEGORICAL\n",
    "imputed_scaled_df = pd.DataFrame(imputed_data, columns= column_names)\n",
    "imputed_scaled_df.head()"
   ]
  },
  {
   "cell_type": "markdown",
   "id": "141f64ae",
   "metadata": {},
   "source": [
    "### Confirm all NaN values are filled out"
   ]
  },
  {
   "cell_type": "code",
   "execution_count": 191,
   "id": "20d66381",
   "metadata": {},
   "outputs": [
    {
     "data": {
      "text/html": [
       "<div>\n",
       "<style scoped>\n",
       "    .dataframe tbody tr th:only-of-type {\n",
       "        vertical-align: middle;\n",
       "    }\n",
       "\n",
       "    .dataframe tbody tr th {\n",
       "        vertical-align: top;\n",
       "    }\n",
       "\n",
       "    .dataframe thead th {\n",
       "        text-align: right;\n",
       "    }\n",
       "</style>\n",
       "<table border=\"1\" class=\"dataframe\">\n",
       "  <thead>\n",
       "    <tr style=\"text-align: right;\">\n",
       "      <th></th>\n",
       "      <th>column</th>\n",
       "      <th>missing_data</th>\n",
       "      <th>percentages_of_missing_values</th>\n",
       "    </tr>\n",
       "  </thead>\n",
       "  <tbody>\n",
       "    <tr>\n",
       "      <th>0</th>\n",
       "      <td>units_sold</td>\n",
       "      <td>0</td>\n",
       "      <td>0.0</td>\n",
       "    </tr>\n",
       "    <tr>\n",
       "      <th>1</th>\n",
       "      <td>revenue</td>\n",
       "      <td>0</td>\n",
       "      <td>0.0</td>\n",
       "    </tr>\n",
       "    <tr>\n",
       "      <th>2</th>\n",
       "      <td>cost</td>\n",
       "      <td>0</td>\n",
       "      <td>0.0</td>\n",
       "    </tr>\n",
       "    <tr>\n",
       "      <th>3</th>\n",
       "      <td>profit</td>\n",
       "      <td>0</td>\n",
       "      <td>0.0</td>\n",
       "    </tr>\n",
       "    <tr>\n",
       "      <th>4</th>\n",
       "      <td>country</td>\n",
       "      <td>0</td>\n",
       "      <td>0.0</td>\n",
       "    </tr>\n",
       "    <tr>\n",
       "      <th>5</th>\n",
       "      <td>confectionary</td>\n",
       "      <td>0</td>\n",
       "      <td>0.0</td>\n",
       "    </tr>\n",
       "  </tbody>\n",
       "</table>\n",
       "</div>"
      ],
      "text/plain": [
       "          column  missing_data  percentages_of_missing_values\n",
       "0     units_sold             0                            0.0\n",
       "1        revenue             0                            0.0\n",
       "2           cost             0                            0.0\n",
       "3         profit             0                            0.0\n",
       "4        country             0                            0.0\n",
       "5  confectionary             0                            0.0"
      ]
     },
     "execution_count": 191,
     "metadata": {},
     "output_type": "execute_result"
    }
   ],
   "source": [
    "nan_per_column = pd.DataFrame({\n",
    "    'column': imputed_scaled_df.columns,\n",
    "    'missing_data': imputed_scaled_df.isna().sum(),\n",
    "    'percentages_of_missing_values': (imputed_scaled_df.isna().sum()/len(imputed_scaled_df)) * 100\n",
    "})\n",
    "nan_per_column.reset_index(inplace=True, drop=True)\n",
    "nan_per_column"
   ]
  },
  {
   "cell_type": "markdown",
   "id": "af8d9706",
   "metadata": {},
   "source": [
    "### Inverse transform and combining with categorical data"
   ]
  },
  {
   "cell_type": "code",
   "execution_count": 192,
   "id": "74513259",
   "metadata": {},
   "outputs": [
    {
     "data": {
      "text/html": [
       "<div>\n",
       "<style scoped>\n",
       "    .dataframe tbody tr th:only-of-type {\n",
       "        vertical-align: middle;\n",
       "    }\n",
       "\n",
       "    .dataframe tbody tr th {\n",
       "        vertical-align: top;\n",
       "    }\n",
       "\n",
       "    .dataframe thead th {\n",
       "        text-align: right;\n",
       "    }\n",
       "</style>\n",
       "<table border=\"1\" class=\"dataframe\">\n",
       "  <thead>\n",
       "    <tr style=\"text-align: right;\">\n",
       "      <th></th>\n",
       "      <th>units_sold</th>\n",
       "      <th>revenue</th>\n",
       "      <th>cost</th>\n",
       "      <th>profit</th>\n",
       "      <th>country</th>\n",
       "      <th>confectionary</th>\n",
       "      <th>date</th>\n",
       "    </tr>\n",
       "  </thead>\n",
       "  <tbody>\n",
       "    <tr>\n",
       "      <th>0</th>\n",
       "      <td>1118.0</td>\n",
       "      <td>5590.0</td>\n",
       "      <td>2459.6</td>\n",
       "      <td>3130.4</td>\n",
       "      <td>1</td>\n",
       "      <td>1</td>\n",
       "      <td>2002-11-11</td>\n",
       "    </tr>\n",
       "    <tr>\n",
       "      <th>1</th>\n",
       "      <td>708.0</td>\n",
       "      <td>3540.0</td>\n",
       "      <td>1557.6</td>\n",
       "      <td>1982.4</td>\n",
       "      <td>1</td>\n",
       "      <td>1</td>\n",
       "      <td>2002-07-05</td>\n",
       "    </tr>\n",
       "    <tr>\n",
       "      <th>2</th>\n",
       "      <td>1269.0</td>\n",
       "      <td>6345.0</td>\n",
       "      <td>2791.8</td>\n",
       "      <td>3553.2</td>\n",
       "      <td>1</td>\n",
       "      <td>1</td>\n",
       "      <td>2001-10-31</td>\n",
       "    </tr>\n",
       "    <tr>\n",
       "      <th>3</th>\n",
       "      <td>1631.0</td>\n",
       "      <td>8155.0</td>\n",
       "      <td>3588.2</td>\n",
       "      <td>4566.8</td>\n",
       "      <td>1</td>\n",
       "      <td>1</td>\n",
       "      <td>2004-09-13</td>\n",
       "    </tr>\n",
       "    <tr>\n",
       "      <th>4</th>\n",
       "      <td>2240.0</td>\n",
       "      <td>11200.0</td>\n",
       "      <td>4928.0</td>\n",
       "      <td>6272.0</td>\n",
       "      <td>1</td>\n",
       "      <td>1</td>\n",
       "      <td>2004-03-10</td>\n",
       "    </tr>\n",
       "  </tbody>\n",
       "</table>\n",
       "</div>"
      ],
      "text/plain": [
       "   units_sold  revenue    cost  profit  country  confectionary       date\n",
       "0      1118.0   5590.0  2459.6  3130.4        1              1 2002-11-11\n",
       "1       708.0   3540.0  1557.6  1982.4        1              1 2002-07-05\n",
       "2      1269.0   6345.0  2791.8  3553.2        1              1 2001-10-31\n",
       "3      1631.0   8155.0  3588.2  4566.8        1              1 2004-09-13\n",
       "4      2240.0  11200.0  4928.0  6272.0        1              1 2004-03-10"
      ]
     },
     "execution_count": 192,
     "metadata": {},
     "output_type": "execute_result"
    }
   ],
   "source": [
    "# Inverse transform to get back original scale\n",
    "imputed_df = pd.DataFrame(scaler.inverse_transform(imputed_scaled_df[numerical_cols]), columns=numerical_cols)\n",
    "imputed_scaled_df.update(imputed_df)\n",
    "imputed_scaled_df['date'] = conf_data['date']\n",
    "conf_data = imputed_scaled_df\n",
    "conf_data['country'] = conf_data['country'].astype(int)\n",
    "conf_data['confectionary'] = conf_data['confectionary'].astype(int)\n",
    "conf_data.head()\n"
   ]
  },
  {
   "cell_type": "markdown",
   "id": "3d763227",
   "metadata": {},
   "source": [
    "### Confirming the data types and shape after imputing"
   ]
  },
  {
   "cell_type": "code",
   "execution_count": 193,
   "id": "dbffa472",
   "metadata": {},
   "outputs": [
    {
     "name": "stdout",
     "output_type": "stream",
     "text": [
      "Rows: 1001, Columns: 7\n"
     ]
    }
   ],
   "source": [
    "rows, columns = conf_data.shape\n",
    "print(f\"Rows: {rows}, Columns: {columns}\")"
   ]
  },
  {
   "cell_type": "code",
   "execution_count": 194,
   "id": "0cb7fbbd",
   "metadata": {},
   "outputs": [
    {
     "data": {
      "text/html": [
       "<div>\n",
       "<style scoped>\n",
       "    .dataframe tbody tr th:only-of-type {\n",
       "        vertical-align: middle;\n",
       "    }\n",
       "\n",
       "    .dataframe tbody tr th {\n",
       "        vertical-align: top;\n",
       "    }\n",
       "\n",
       "    .dataframe thead th {\n",
       "        text-align: right;\n",
       "    }\n",
       "</style>\n",
       "<table border=\"1\" class=\"dataframe\">\n",
       "  <thead>\n",
       "    <tr style=\"text-align: right;\">\n",
       "      <th></th>\n",
       "      <th>column</th>\n",
       "      <th>data_type</th>\n",
       "    </tr>\n",
       "  </thead>\n",
       "  <tbody>\n",
       "    <tr>\n",
       "      <th>0</th>\n",
       "      <td>units_sold</td>\n",
       "      <td>float64</td>\n",
       "    </tr>\n",
       "    <tr>\n",
       "      <th>1</th>\n",
       "      <td>revenue</td>\n",
       "      <td>float64</td>\n",
       "    </tr>\n",
       "    <tr>\n",
       "      <th>2</th>\n",
       "      <td>cost</td>\n",
       "      <td>float64</td>\n",
       "    </tr>\n",
       "    <tr>\n",
       "      <th>3</th>\n",
       "      <td>profit</td>\n",
       "      <td>float64</td>\n",
       "    </tr>\n",
       "    <tr>\n",
       "      <th>4</th>\n",
       "      <td>country</td>\n",
       "      <td>int32</td>\n",
       "    </tr>\n",
       "    <tr>\n",
       "      <th>5</th>\n",
       "      <td>confectionary</td>\n",
       "      <td>int32</td>\n",
       "    </tr>\n",
       "    <tr>\n",
       "      <th>6</th>\n",
       "      <td>date</td>\n",
       "      <td>datetime64[ns]</td>\n",
       "    </tr>\n",
       "  </tbody>\n",
       "</table>\n",
       "</div>"
      ],
      "text/plain": [
       "          column       data_type\n",
       "0     units_sold         float64\n",
       "1        revenue         float64\n",
       "2           cost         float64\n",
       "3         profit         float64\n",
       "4        country           int32\n",
       "5  confectionary           int32\n",
       "6           date  datetime64[ns]"
      ]
     },
     "execution_count": 194,
     "metadata": {},
     "output_type": "execute_result"
    }
   ],
   "source": [
    "dtypes_df = pd.DataFrame({\n",
    "    'column': conf_data.columns,\n",
    "    'data_type': conf_data.dtypes\n",
    "    })\n",
    "dtypes_df.reset_index(inplace=True, drop=True)\n",
    "dtypes_df"
   ]
  },
  {
   "cell_type": "code",
   "execution_count": 195,
   "id": "1c2a7a4c",
   "metadata": {},
   "outputs": [
    {
     "data": {
      "text/html": [
       "<div>\n",
       "<style scoped>\n",
       "    .dataframe tbody tr th:only-of-type {\n",
       "        vertical-align: middle;\n",
       "    }\n",
       "\n",
       "    .dataframe tbody tr th {\n",
       "        vertical-align: top;\n",
       "    }\n",
       "\n",
       "    .dataframe thead th {\n",
       "        text-align: right;\n",
       "    }\n",
       "</style>\n",
       "<table border=\"1\" class=\"dataframe\">\n",
       "  <thead>\n",
       "    <tr style=\"text-align: right;\">\n",
       "      <th></th>\n",
       "      <th>date</th>\n",
       "      <th>country</th>\n",
       "      <th>confectionary</th>\n",
       "      <th>units_sold</th>\n",
       "      <th>revenue</th>\n",
       "      <th>cost</th>\n",
       "      <th>profit</th>\n",
       "    </tr>\n",
       "  </thead>\n",
       "  <tbody>\n",
       "    <tr>\n",
       "      <th>0</th>\n",
       "      <td>2002-11-11</td>\n",
       "      <td>1</td>\n",
       "      <td>1</td>\n",
       "      <td>1118.0</td>\n",
       "      <td>5590.0</td>\n",
       "      <td>2459.6</td>\n",
       "      <td>3130.4</td>\n",
       "    </tr>\n",
       "    <tr>\n",
       "      <th>1</th>\n",
       "      <td>2002-07-05</td>\n",
       "      <td>1</td>\n",
       "      <td>1</td>\n",
       "      <td>708.0</td>\n",
       "      <td>3540.0</td>\n",
       "      <td>1557.6</td>\n",
       "      <td>1982.4</td>\n",
       "    </tr>\n",
       "    <tr>\n",
       "      <th>2</th>\n",
       "      <td>2001-10-31</td>\n",
       "      <td>1</td>\n",
       "      <td>1</td>\n",
       "      <td>1269.0</td>\n",
       "      <td>6345.0</td>\n",
       "      <td>2791.8</td>\n",
       "      <td>3553.2</td>\n",
       "    </tr>\n",
       "    <tr>\n",
       "      <th>3</th>\n",
       "      <td>2004-09-13</td>\n",
       "      <td>1</td>\n",
       "      <td>1</td>\n",
       "      <td>1631.0</td>\n",
       "      <td>8155.0</td>\n",
       "      <td>3588.2</td>\n",
       "      <td>4566.8</td>\n",
       "    </tr>\n",
       "    <tr>\n",
       "      <th>4</th>\n",
       "      <td>2004-03-10</td>\n",
       "      <td>1</td>\n",
       "      <td>1</td>\n",
       "      <td>2240.0</td>\n",
       "      <td>11200.0</td>\n",
       "      <td>4928.0</td>\n",
       "      <td>6272.0</td>\n",
       "    </tr>\n",
       "  </tbody>\n",
       "</table>\n",
       "</div>"
      ],
      "text/plain": [
       "        date  country  confectionary  units_sold  revenue    cost  profit\n",
       "0 2002-11-11        1              1      1118.0   5590.0  2459.6  3130.4\n",
       "1 2002-07-05        1              1       708.0   3540.0  1557.6  1982.4\n",
       "2 2001-10-31        1              1      1269.0   6345.0  2791.8  3553.2\n",
       "3 2004-09-13        1              1      1631.0   8155.0  3588.2  4566.8\n",
       "4 2004-03-10        1              1      2240.0  11200.0  4928.0  6272.0"
      ]
     },
     "execution_count": 195,
     "metadata": {},
     "output_type": "execute_result"
    }
   ],
   "source": [
    "imputed_scaled_df['date'] = conf_data['date']\n",
    "conf_data = imputed_scaled_df\n",
    "conf_data = conf_data[['date', 'country', 'confectionary', 'units_sold', 'revenue', 'cost', 'profit']]      \n",
    "conf_data.head()"
   ]
  },
  {
   "cell_type": "code",
   "execution_count": null,
   "id": "525b32a2",
   "metadata": {},
   "outputs": [],
   "source": []
  }
 ],
 "metadata": {
  "kernelspec": {
   "display_name": "msc_ds",
   "language": "python",
   "name": "python3"
  },
  "language_info": {
   "codemirror_mode": {
    "name": "ipython",
    "version": 3
   },
   "file_extension": ".py",
   "mimetype": "text/x-python",
   "name": "python",
   "nbconvert_exporter": "python",
   "pygments_lexer": "ipython3",
   "version": "3.9.21"
  }
 },
 "nbformat": 4,
 "nbformat_minor": 5
}
