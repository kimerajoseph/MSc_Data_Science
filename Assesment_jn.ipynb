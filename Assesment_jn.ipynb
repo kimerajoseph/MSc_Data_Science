{
 "cells": [
  {
   "cell_type": "code",
   "execution_count": 116,
   "metadata": {},
   "outputs": [],
   "source": [
    "import pandas as pd\n",
    "import seaborn as sns\n",
    "import matplotlib.pyplot as plt\n",
    "import numpy as np\n",
    "from sklearn.metrics.pairwise import cosine_similarity\n",
    "from scipy.stats import shapiro\n"
   ]
  },
  {
   "cell_type": "code",
   "execution_count": 84,
   "metadata": {},
   "outputs": [
    {
     "data": {
      "text/html": [
       "<div>\n",
       "<style scoped>\n",
       "    .dataframe tbody tr th:only-of-type {\n",
       "        vertical-align: middle;\n",
       "    }\n",
       "\n",
       "    .dataframe tbody tr th {\n",
       "        vertical-align: top;\n",
       "    }\n",
       "\n",
       "    .dataframe thead th {\n",
       "        text-align: right;\n",
       "    }\n",
       "</style>\n",
       "<table border=\"1\" class=\"dataframe\">\n",
       "  <thead>\n",
       "    <tr style=\"text-align: right;\">\n",
       "      <th></th>\n",
       "      <th>price</th>\n",
       "      <th>bedrooms</th>\n",
       "      <th>bathrooms</th>\n",
       "      <th>sqft_living</th>\n",
       "      <th>sqft_total</th>\n",
       "      <th>floors</th>\n",
       "      <th>condition</th>\n",
       "      <th>grade</th>\n",
       "      <th>built</th>\n",
       "      <th>renovated</th>\n",
       "      <th>living_area_sqft</th>\n",
       "    </tr>\n",
       "  </thead>\n",
       "  <tbody>\n",
       "    <tr>\n",
       "      <th>0</th>\n",
       "      <td>221900.0</td>\n",
       "      <td>3.0</td>\n",
       "      <td>1.0</td>\n",
       "      <td>1180.0</td>\n",
       "      <td>5650.0</td>\n",
       "      <td>1.0</td>\n",
       "      <td>3.0</td>\n",
       "      <td>7</td>\n",
       "      <td>1955.0</td>\n",
       "      <td>0</td>\n",
       "      <td>1340.0</td>\n",
       "    </tr>\n",
       "    <tr>\n",
       "      <th>1</th>\n",
       "      <td>538000.0</td>\n",
       "      <td>3.0</td>\n",
       "      <td>NaN</td>\n",
       "      <td>2570.0</td>\n",
       "      <td>7242.0</td>\n",
       "      <td>2.0</td>\n",
       "      <td>3.0</td>\n",
       "      <td>7</td>\n",
       "      <td>1951.0</td>\n",
       "      <td>1991</td>\n",
       "      <td>1690.0</td>\n",
       "    </tr>\n",
       "    <tr>\n",
       "      <th>2</th>\n",
       "      <td>180000.0</td>\n",
       "      <td>2.0</td>\n",
       "      <td>1.0</td>\n",
       "      <td>770.0</td>\n",
       "      <td>10000.0</td>\n",
       "      <td>1.0</td>\n",
       "      <td>3.0</td>\n",
       "      <td>6</td>\n",
       "      <td>1933.0</td>\n",
       "      <td>0</td>\n",
       "      <td>2720.0</td>\n",
       "    </tr>\n",
       "    <tr>\n",
       "      <th>3</th>\n",
       "      <td>604000.0</td>\n",
       "      <td>4.0</td>\n",
       "      <td>3.0</td>\n",
       "      <td>1960.0</td>\n",
       "      <td>5000.0</td>\n",
       "      <td>1.0</td>\n",
       "      <td>5.0</td>\n",
       "      <td>7</td>\n",
       "      <td>1965.0</td>\n",
       "      <td>0</td>\n",
       "      <td>1360.0</td>\n",
       "    </tr>\n",
       "    <tr>\n",
       "      <th>4</th>\n",
       "      <td>510000.0</td>\n",
       "      <td>3.0</td>\n",
       "      <td>2.0</td>\n",
       "      <td>1680.0</td>\n",
       "      <td>8080.0</td>\n",
       "      <td>1.0</td>\n",
       "      <td>3.0</td>\n",
       "      <td>8</td>\n",
       "      <td>1987.0</td>\n",
       "      <td>0</td>\n",
       "      <td>1800.0</td>\n",
       "    </tr>\n",
       "  </tbody>\n",
       "</table>\n",
       "</div>"
      ],
      "text/plain": [
       "      price  bedrooms  bathrooms  sqft_living  sqft_total  floors  condition  \\\n",
       "0  221900.0       3.0        1.0       1180.0      5650.0     1.0        3.0   \n",
       "1  538000.0       3.0        NaN       2570.0      7242.0     2.0        3.0   \n",
       "2  180000.0       2.0        1.0        770.0     10000.0     1.0        3.0   \n",
       "3  604000.0       4.0        3.0       1960.0      5000.0     1.0        5.0   \n",
       "4  510000.0       3.0        2.0       1680.0      8080.0     1.0        3.0   \n",
       "\n",
       "   grade   built  renovated  living_area_sqft  \n",
       "0      7  1955.0          0            1340.0  \n",
       "1      7  1951.0       1991            1690.0  \n",
       "2      6  1933.0          0            2720.0  \n",
       "3      7  1965.0          0            1360.0  \n",
       "4      8  1987.0          0            1800.0  "
      ]
     },
     "execution_count": 84,
     "metadata": {},
     "output_type": "execute_result"
    }
   ],
   "source": [
    "raw_data = pd.read_excel(\"../Paris housing Data Set 2 4050.xlsx\")\n",
    "housing_df = raw_data.copy(deep=True)\n",
    "housing_df.head(5)"
   ]
  },
  {
   "cell_type": "code",
   "execution_count": 85,
   "metadata": {},
   "outputs": [
    {
     "data": {
      "text/plain": [
       "price               float64\n",
       "bedrooms            float64\n",
       "bathrooms           float64\n",
       "sqft_living         float64\n",
       "sqft_total          float64\n",
       "floors              float64\n",
       "condition           float64\n",
       "grade                 int64\n",
       "built               float64\n",
       "renovated             int64\n",
       "living_area_sqft    float64\n",
       "dtype: object"
      ]
     },
     "execution_count": 85,
     "metadata": {},
     "output_type": "execute_result"
    }
   ],
   "source": [
    "housing_df.dtypes"
   ]
  },
  {
   "cell_type": "code",
   "execution_count": 86,
   "metadata": {},
   "outputs": [],
   "source": [
    "# dtype_table = pd.DataFrame(housing_df.dtypes, columns=['Data Type'])\n",
    "# dtype_table.index.name = 'Column Name'\n",
    "\n",
    "# # Display the table\n",
    "# dtype_table"
   ]
  },
  {
   "cell_type": "code",
   "execution_count": 87,
   "metadata": {},
   "outputs": [
    {
     "data": {
      "text/plain": [
       "(19999, 11)"
      ]
     },
     "execution_count": 87,
     "metadata": {},
     "output_type": "execute_result"
    }
   ],
   "source": [
    "housing_df.shape"
   ]
  },
  {
   "cell_type": "code",
   "execution_count": 88,
   "metadata": {},
   "outputs": [
    {
     "data": {
      "text/html": [
       "<div>\n",
       "<style scoped>\n",
       "    .dataframe tbody tr th:only-of-type {\n",
       "        vertical-align: middle;\n",
       "    }\n",
       "\n",
       "    .dataframe tbody tr th {\n",
       "        vertical-align: top;\n",
       "    }\n",
       "\n",
       "    .dataframe thead th {\n",
       "        text-align: right;\n",
       "    }\n",
       "</style>\n",
       "<table border=\"1\" class=\"dataframe\">\n",
       "  <thead>\n",
       "    <tr style=\"text-align: right;\">\n",
       "      <th></th>\n",
       "      <th>No of Missing Data (Nan)</th>\n",
       "    </tr>\n",
       "    <tr>\n",
       "      <th>Column Name</th>\n",
       "      <th></th>\n",
       "    </tr>\n",
       "  </thead>\n",
       "  <tbody>\n",
       "    <tr>\n",
       "      <th>price</th>\n",
       "      <td>4</td>\n",
       "    </tr>\n",
       "    <tr>\n",
       "      <th>bedrooms</th>\n",
       "      <td>15</td>\n",
       "    </tr>\n",
       "    <tr>\n",
       "      <th>bathrooms</th>\n",
       "      <td>11</td>\n",
       "    </tr>\n",
       "    <tr>\n",
       "      <th>sqft_living</th>\n",
       "      <td>1</td>\n",
       "    </tr>\n",
       "    <tr>\n",
       "      <th>sqft_total</th>\n",
       "      <td>5</td>\n",
       "    </tr>\n",
       "    <tr>\n",
       "      <th>floors</th>\n",
       "      <td>0</td>\n",
       "    </tr>\n",
       "    <tr>\n",
       "      <th>condition</th>\n",
       "      <td>1</td>\n",
       "    </tr>\n",
       "    <tr>\n",
       "      <th>grade</th>\n",
       "      <td>0</td>\n",
       "    </tr>\n",
       "    <tr>\n",
       "      <th>built</th>\n",
       "      <td>1</td>\n",
       "    </tr>\n",
       "    <tr>\n",
       "      <th>renovated</th>\n",
       "      <td>0</td>\n",
       "    </tr>\n",
       "    <tr>\n",
       "      <th>living_area_sqft</th>\n",
       "      <td>6</td>\n",
       "    </tr>\n",
       "  </tbody>\n",
       "</table>\n",
       "</div>"
      ],
      "text/plain": [
       "                  No of Missing Data (Nan)\n",
       "Column Name                               \n",
       "price                                    4\n",
       "bedrooms                                15\n",
       "bathrooms                               11\n",
       "sqft_living                              1\n",
       "sqft_total                               5\n",
       "floors                                   0\n",
       "condition                                1\n",
       "grade                                    0\n",
       "built                                    1\n",
       "renovated                                0\n",
       "living_area_sqft                         6"
      ]
     },
     "execution_count": 88,
     "metadata": {},
     "output_type": "execute_result"
    }
   ],
   "source": [
    "\n",
    "dtype_table = pd.DataFrame(housing_df.isna().sum(), columns=['No of Missing Data (Nan)'])\n",
    "dtype_table.index.name = 'Column Name'\n",
    "\n",
    "# Display the table\n",
    "dtype_table"
   ]
  },
  {
   "cell_type": "code",
   "execution_count": 89,
   "metadata": {},
   "outputs": [
    {
     "data": {
      "text/plain": [
       "Column Name\n",
       "price               0.020001\n",
       "bedrooms            0.075004\n",
       "bathrooms           0.055003\n",
       "sqft_living         0.005000\n",
       "sqft_total          0.025001\n",
       "floors              0.000000\n",
       "condition           0.005000\n",
       "grade               0.000000\n",
       "built               0.005000\n",
       "renovated           0.000000\n",
       "living_area_sqft    0.030002\n",
       "dtype: float64"
      ]
     },
     "execution_count": 89,
     "metadata": {},
     "output_type": "execute_result"
    }
   ],
   "source": [
    "(housing_df.isna().sum()/len(housing_df))*100"
   ]
  },
  {
   "cell_type": "code",
   "execution_count": 90,
   "metadata": {},
   "outputs": [
    {
     "data": {
      "text/plain": [
       "np.int64(0)"
      ]
     },
     "execution_count": 90,
     "metadata": {},
     "output_type": "execute_result"
    }
   ],
   "source": [
    "nan_rows_count = housing_df.isna().all(axis=1).sum()\n",
    "nan_rows_count"
   ]
  },
  {
   "cell_type": "code",
   "execution_count": 91,
   "metadata": {},
   "outputs": [
    {
     "name": "stdout",
     "output_type": "stream",
     "text": [
      "Number of rows with NaN values is:  37\n",
      "Percentage of rows with NaN values is:  0.18500925046252312\n"
     ]
    }
   ],
   "source": [
    "housing_df_without_nan = housing_df.dropna()\n",
    "rows_with_nan_data = len(housing_df) - len(housing_df_without_nan)\n",
    "print(\"Number of rows with NaN values is: \",rows_with_nan_data)\n",
    "print(\"Percentage of rows with NaN values is: \",(rows_with_nan_data/len(housing_df))*100)"
   ]
  },
  {
   "cell_type": "code",
   "execution_count": 92,
   "metadata": {},
   "outputs": [],
   "source": [
    "# dataplot = sns.heatmap(housing_df_without_nan.corr(method=\"pearson\"), cmap=\"YlGnBu\", annot=True)\n",
    "\n",
    "# # Displaying heatmap\n",
    "# plt.show()"
   ]
  },
  {
   "cell_type": "code",
   "execution_count": 93,
   "metadata": {},
   "outputs": [],
   "source": [
    "correlations = housing_df_without_nan.corr()['price'].drop('price')  # Drop self-correlation\n",
    "\n",
    "# Find the most correlated column\n",
    "most_correlated_column = correlations.idxmax()\n",
    "highest_correlation_value = correlations.max()\n"
   ]
  },
  {
   "cell_type": "code",
   "execution_count": 94,
   "metadata": {},
   "outputs": [
    {
     "data": {
      "text/plain": [
       "('sqft_living', np.float64(0.7010909427105703))"
      ]
     },
     "execution_count": 94,
     "metadata": {},
     "output_type": "execute_result"
    }
   ],
   "source": [
    "most_correlated_column, highest_correlation_value"
   ]
  },
  {
   "cell_type": "code",
   "execution_count": 105,
   "metadata": {},
   "outputs": [
    {
     "data": {
      "text/plain": [
       "('bathrooms', np.float64(0.5247952867562538))"
      ]
     },
     "execution_count": 105,
     "metadata": {},
     "output_type": "execute_result"
    }
   ],
   "source": [
    "correlations = housing_df_without_nan.corr()['price'].drop('price')  # Drop self-correlation\n",
    "\n",
    "# Find the most correlated column\n",
    "least_correlated_column = correlations.idxmin()\n",
    "least_correlation_value = correlations.min()\n",
    "least_correlated_column, least_correlation_value"
   ]
  },
  {
   "cell_type": "code",
   "execution_count": 95,
   "metadata": {},
   "outputs": [
    {
     "data": {
      "text/plain": [
       "np.int64(7)"
      ]
     },
     "execution_count": 95,
     "metadata": {},
     "output_type": "execute_result"
    }
   ],
   "source": [
    "no_of_nan_rows_bed_and_bath = housing_df[['bedrooms', 'bathrooms']].isna().all(axis=1).sum()\n",
    "no_of_nan_rows_bed_and_bath"
   ]
  },
  {
   "cell_type": "code",
   "execution_count": 96,
   "metadata": {},
   "outputs": [
    {
     "data": {
      "text/plain": [
       "Column Name\n",
       "price                4\n",
       "bedrooms            15\n",
       "bathrooms           11\n",
       "sqft_living          1\n",
       "sqft_total           5\n",
       "floors               0\n",
       "condition            1\n",
       "grade                0\n",
       "built                1\n",
       "renovated            0\n",
       "living_area_sqft     6\n",
       "dtype: int64"
      ]
     },
     "execution_count": 96,
     "metadata": {},
     "output_type": "execute_result"
    }
   ],
   "source": [
    "housing_df.isna().sum()"
   ]
  },
  {
   "cell_type": "code",
   "execution_count": 97,
   "metadata": {},
   "outputs": [
    {
     "data": {
      "text/plain": [
       "Column Name\n",
       "price               4\n",
       "bedrooms            0\n",
       "bathrooms           0\n",
       "sqft_living         0\n",
       "sqft_total          0\n",
       "floors              0\n",
       "condition           0\n",
       "grade               0\n",
       "built               0\n",
       "renovated           0\n",
       "living_area_sqft    0\n",
       "dtype: int64"
      ]
     },
     "execution_count": 97,
     "metadata": {},
     "output_type": "execute_result"
    }
   ],
   "source": [
    "# fill nan for bathrooms, bedrooms, and other values except price\n",
    "housing_df[['bedrooms','sqft_total','living_area_sqft']] = housing_df[['bedrooms','sqft_total','living_area_sqft']].bfill()\n",
    "housing_df['bathrooms'] = housing_df['bathrooms'].ffill()\n",
    "housing_df[['sqft_living', 'condition','built']] = housing_df[['sqft_living', 'condition','built']].apply(lambda col: col.fillna(col.median()))\n",
    "housing_df.isna().sum()"
   ]
  },
  {
   "cell_type": "markdown",
   "metadata": {},
   "source": [
    "### REPLACING NAN VALUES FOR PRICE COLUMN USING COSINE SIMILARITY"
   ]
  },
  {
   "cell_type": "code",
   "execution_count": 98,
   "metadata": {},
   "outputs": [
    {
     "name": "stderr",
     "output_type": "stream",
     "text": [
      "C:\\Users\\HP\\AppData\\Local\\Temp\\ipykernel_18832\\2234587514.py:4: SettingWithCopyWarning: \n",
      "A value is trying to be set on a copy of a slice from a DataFrame\n",
      "\n",
      "See the caveats in the documentation: https://pandas.pydata.org/pandas-docs/stable/user_guide/indexing.html#returning-a-view-versus-a-copy\n",
      "  data_without_price.drop(columns=['index'], inplace=True)\n"
     ]
    }
   ],
   "source": [
    "data_without_price = housing_df[housing_df.price.isna()]\n",
    "data_without_price.reset_index(inplace=True)\n",
    "dict_from_df_index = dict(zip( data_without_price.index, data_without_price[\"index\"]))\n",
    "data_without_price.drop(columns=['index'], inplace=True)"
   ]
  },
  {
   "cell_type": "code",
   "execution_count": 99,
   "metadata": {},
   "outputs": [
    {
     "data": {
      "image/png": "[encoded data removed]",
      "text/plain": [
       "<Figure size 640x480 with 2 Axes>"
      ]
     },
     "metadata": {},
     "output_type": "display_data"
    }
   ],
   "source": [
    "dataplot = sns.heatmap(housing_df_without_nan.corr(method=\"pearson\"), cmap=\"YlGnBu\", annot=True)\n",
    "\n",
    "# Displaying heatmap\n",
    "plt.show()"
   ]
  },
  {
   "cell_type": "code",
   "execution_count": 100,
   "metadata": {},
   "outputs": [
    {
     "data": {
      "text/html": [
       "<div>\n",
       "<style scoped>\n",
       "    .dataframe tbody tr th:only-of-type {\n",
       "        vertical-align: middle;\n",
       "    }\n",
       "\n",
       "    .dataframe tbody tr th {\n",
       "        vertical-align: top;\n",
       "    }\n",
       "\n",
       "    .dataframe thead th {\n",
       "        text-align: right;\n",
       "    }\n",
       "</style>\n",
       "<table border=\"1\" class=\"dataframe\">\n",
       "  <thead>\n",
       "    <tr style=\"text-align: right;\">\n",
       "      <th>Column Name</th>\n",
       "      <th>price</th>\n",
       "      <th>grade</th>\n",
       "      <th>bathrooms</th>\n",
       "      <th>sqft_living</th>\n",
       "      <th>living_area_sqft</th>\n",
       "    </tr>\n",
       "  </thead>\n",
       "  <tbody>\n",
       "    <tr>\n",
       "      <th>0</th>\n",
       "      <td>NaN</td>\n",
       "      <td>9</td>\n",
       "      <td>2.25</td>\n",
       "      <td>2240.0</td>\n",
       "      <td>2440.0</td>\n",
       "    </tr>\n",
       "    <tr>\n",
       "      <th>1</th>\n",
       "      <td>NaN</td>\n",
       "      <td>7</td>\n",
       "      <td>1.50</td>\n",
       "      <td>1140.0</td>\n",
       "      <td>1200.0</td>\n",
       "    </tr>\n",
       "    <tr>\n",
       "      <th>2</th>\n",
       "      <td>NaN</td>\n",
       "      <td>10</td>\n",
       "      <td>2.75</td>\n",
       "      <td>3330.0</td>\n",
       "      <td>2390.0</td>\n",
       "    </tr>\n",
       "    <tr>\n",
       "      <th>3</th>\n",
       "      <td>NaN</td>\n",
       "      <td>10</td>\n",
       "      <td>2.50</td>\n",
       "      <td>2880.0</td>\n",
       "      <td>2640.0</td>\n",
       "    </tr>\n",
       "  </tbody>\n",
       "</table>\n",
       "</div>"
      ],
      "text/plain": [
       "Column Name  price  grade  bathrooms  sqft_living  living_area_sqft\n",
       "0              NaN      9       2.25       2240.0            2440.0\n",
       "1              NaN      7       1.50       1140.0            1200.0\n",
       "2              NaN     10       2.75       3330.0            2390.0\n",
       "3              NaN     10       2.50       2880.0            2640.0"
      ]
     },
     "execution_count": 100,
     "metadata": {},
     "output_type": "execute_result"
    }
   ],
   "source": [
    "column_list = ['price','grade','bathrooms','sqft_living','living_area_sqft']\n",
    "data_without_price = data_without_price[column_list]\n",
    "data_without_price"
   ]
  },
  {
   "cell_type": "code",
   "execution_count": 101,
   "metadata": {},
   "outputs": [
    {
     "data": {
      "text/html": [
       "<div>\n",
       "<style scoped>\n",
       "    .dataframe tbody tr th:only-of-type {\n",
       "        vertical-align: middle;\n",
       "    }\n",
       "\n",
       "    .dataframe tbody tr th {\n",
       "        vertical-align: top;\n",
       "    }\n",
       "\n",
       "    .dataframe thead th {\n",
       "        text-align: right;\n",
       "    }\n",
       "</style>\n",
       "<table border=\"1\" class=\"dataframe\">\n",
       "  <thead>\n",
       "    <tr style=\"text-align: right;\">\n",
       "      <th>Column Name</th>\n",
       "      <th>price</th>\n",
       "      <th>grade</th>\n",
       "      <th>bathrooms</th>\n",
       "      <th>sqft_living</th>\n",
       "      <th>living_area_sqft</th>\n",
       "    </tr>\n",
       "  </thead>\n",
       "  <tbody>\n",
       "    <tr>\n",
       "      <th>0</th>\n",
       "      <td>221900.0</td>\n",
       "      <td>7</td>\n",
       "      <td>1.00</td>\n",
       "      <td>1180.0</td>\n",
       "      <td>1340.0</td>\n",
       "    </tr>\n",
       "    <tr>\n",
       "      <th>1</th>\n",
       "      <td>604000.0</td>\n",
       "      <td>7</td>\n",
       "      <td>3.00</td>\n",
       "      <td>1960.0</td>\n",
       "      <td>1360.0</td>\n",
       "    </tr>\n",
       "    <tr>\n",
       "      <th>2</th>\n",
       "      <td>510000.0</td>\n",
       "      <td>8</td>\n",
       "      <td>2.00</td>\n",
       "      <td>1680.0</td>\n",
       "      <td>1800.0</td>\n",
       "    </tr>\n",
       "    <tr>\n",
       "      <th>3</th>\n",
       "      <td>257500.0</td>\n",
       "      <td>7</td>\n",
       "      <td>2.25</td>\n",
       "      <td>1715.0</td>\n",
       "      <td>2238.0</td>\n",
       "    </tr>\n",
       "    <tr>\n",
       "      <th>4</th>\n",
       "      <td>229500.0</td>\n",
       "      <td>7</td>\n",
       "      <td>1.00</td>\n",
       "      <td>1780.0</td>\n",
       "      <td>1780.0</td>\n",
       "    </tr>\n",
       "    <tr>\n",
       "      <th>...</th>\n",
       "      <td>...</td>\n",
       "      <td>...</td>\n",
       "      <td>...</td>\n",
       "      <td>...</td>\n",
       "      <td>...</td>\n",
       "    </tr>\n",
       "    <tr>\n",
       "      <th>14014</th>\n",
       "      <td>439108.0</td>\n",
       "      <td>8</td>\n",
       "      <td>1.50</td>\n",
       "      <td>1130.0</td>\n",
       "      <td>1310.0</td>\n",
       "    </tr>\n",
       "    <tr>\n",
       "      <th>14015</th>\n",
       "      <td>260000.0</td>\n",
       "      <td>7</td>\n",
       "      <td>2.25</td>\n",
       "      <td>1489.0</td>\n",
       "      <td>1584.0</td>\n",
       "    </tr>\n",
       "    <tr>\n",
       "      <th>14016</th>\n",
       "      <td>279000.0</td>\n",
       "      <td>7</td>\n",
       "      <td>2.50</td>\n",
       "      <td>2690.0</td>\n",
       "      <td>2090.0</td>\n",
       "    </tr>\n",
       "    <tr>\n",
       "      <th>14017</th>\n",
       "      <td>380000.0</td>\n",
       "      <td>7</td>\n",
       "      <td>2.25</td>\n",
       "      <td>1530.0</td>\n",
       "      <td>1320.0</td>\n",
       "    </tr>\n",
       "    <tr>\n",
       "      <th>14018</th>\n",
       "      <td>287000.0</td>\n",
       "      <td>8</td>\n",
       "      <td>2.50</td>\n",
       "      <td>1600.0</td>\n",
       "      <td>1608.0</td>\n",
       "    </tr>\n",
       "  </tbody>\n",
       "</table>\n",
       "<p>14019 rows × 5 columns</p>\n",
       "</div>"
      ],
      "text/plain": [
       "Column Name     price  grade  bathrooms  sqft_living  living_area_sqft\n",
       "0            221900.0      7       1.00       1180.0            1340.0\n",
       "1            604000.0      7       3.00       1960.0            1360.0\n",
       "2            510000.0      8       2.00       1680.0            1800.0\n",
       "3            257500.0      7       2.25       1715.0            2238.0\n",
       "4            229500.0      7       1.00       1780.0            1780.0\n",
       "...               ...    ...        ...          ...               ...\n",
       "14014        439108.0      8       1.50       1130.0            1310.0\n",
       "14015        260000.0      7       2.25       1489.0            1584.0\n",
       "14016        279000.0      7       2.50       2690.0            2090.0\n",
       "14017        380000.0      7       2.25       1530.0            1320.0\n",
       "14018        287000.0      8       2.50       1600.0            1608.0\n",
       "\n",
       "[14019 rows x 5 columns]"
      ]
     },
     "execution_count": 101,
     "metadata": {},
     "output_type": "execute_result"
    }
   ],
   "source": [
    "## FILTER DF TO GET ONLY ROWS WITH VALUES IN SAME RANGE AS THOSE WITH ROWS HAVING MISSING PRICE\n",
    "housing_df_without_nan = housing_df_without_nan[column_list]\n",
    "filtered_df = housing_df_without_nan[\n",
    "    (housing_df_without_nan[\"grade\"].between(7, 10)) & \n",
    "    (housing_df_without_nan[\"bathrooms\"].between(1, 3)) & \n",
    "    (housing_df_without_nan[\"sqft_living\"].between(1100, 3340)) & \n",
    "    (housing_df_without_nan[\"living_area_sqft\"].between(1190, 26650))\n",
    "].reset_index(drop=True)  # Reset index\n",
    " \n",
    "filtered_df"
   ]
  },
  {
   "cell_type": "code",
   "execution_count": 102,
   "metadata": {},
   "outputs": [
    {
     "name": "stdout",
     "output_type": "stream",
     "text": [
      "Column Name\n",
      "price               0\n",
      "bedrooms            0\n",
      "bathrooms           0\n",
      "sqft_living         0\n",
      "sqft_total          0\n",
      "floors              0\n",
      "condition           0\n",
      "grade               0\n",
      "built               0\n",
      "renovated           0\n",
      "living_area_sqft    0\n",
      "dtype: int64\n"
     ]
    },
    {
     "data": {
      "text/html": [
       "<div>\n",
       "<style scoped>\n",
       "    .dataframe tbody tr th:only-of-type {\n",
       "        vertical-align: middle;\n",
       "    }\n",
       "\n",
       "    .dataframe tbody tr th {\n",
       "        vertical-align: top;\n",
       "    }\n",
       "\n",
       "    .dataframe thead th {\n",
       "        text-align: right;\n",
       "    }\n",
       "</style>\n",
       "<table border=\"1\" class=\"dataframe\">\n",
       "  <thead>\n",
       "    <tr style=\"text-align: right;\">\n",
       "      <th>Column Name</th>\n",
       "      <th>price</th>\n",
       "      <th>grade</th>\n",
       "      <th>bathrooms</th>\n",
       "      <th>sqft_living</th>\n",
       "      <th>living_area_sqft</th>\n",
       "    </tr>\n",
       "  </thead>\n",
       "  <tbody>\n",
       "    <tr>\n",
       "      <th>0</th>\n",
       "      <td>410000.0</td>\n",
       "      <td>9</td>\n",
       "      <td>2.25</td>\n",
       "      <td>2240.0</td>\n",
       "      <td>2440.0</td>\n",
       "    </tr>\n",
       "    <tr>\n",
       "      <th>1</th>\n",
       "      <td>345000.0</td>\n",
       "      <td>7</td>\n",
       "      <td>1.50</td>\n",
       "      <td>1140.0</td>\n",
       "      <td>1200.0</td>\n",
       "    </tr>\n",
       "    <tr>\n",
       "      <th>2</th>\n",
       "      <td>1824100.0</td>\n",
       "      <td>10</td>\n",
       "      <td>2.75</td>\n",
       "      <td>3330.0</td>\n",
       "      <td>2390.0</td>\n",
       "    </tr>\n",
       "    <tr>\n",
       "      <th>3</th>\n",
       "      <td>1989000.0</td>\n",
       "      <td>10</td>\n",
       "      <td>2.50</td>\n",
       "      <td>2880.0</td>\n",
       "      <td>2640.0</td>\n",
       "    </tr>\n",
       "  </tbody>\n",
       "</table>\n",
       "</div>"
      ],
      "text/plain": [
       "Column Name      price  grade  bathrooms  sqft_living  living_area_sqft\n",
       "0             410000.0      9       2.25       2240.0            2440.0\n",
       "1             345000.0      7       1.50       1140.0            1200.0\n",
       "2            1824100.0     10       2.75       3330.0            2390.0\n",
       "3            1989000.0     10       2.50       2880.0            2640.0"
      ]
     },
     "execution_count": 102,
     "metadata": {},
     "output_type": "execute_result"
    }
   ],
   "source": [
    "row_data = data_without_price.iloc[0].tolist()\n",
    "row_data\n",
    "index_list = data_without_price.index.tolist()\n",
    "for val in index_list:\n",
    "    orig_data_index = dict_from_df_index[val]\n",
    "    target_df = filtered_df\n",
    "    sqft_living_value = data_without_price['sqft_living'].iloc[val].item()\n",
    "\n",
    "    # Target row\n",
    "    row_data = data_without_price.iloc[val].tolist()\n",
    "    target_row = np.array([row_data[1:]])  # Skip the price\n",
    "\n",
    "    # Compute cosine similarity\n",
    "    if 'similarity' in target_df.columns:\n",
    "        target_df = target_df.drop(columns=['similarity'])\n",
    "    similarities = cosine_similarity(target_df.iloc[:,1:].values, target_row) # also exclude price here\n",
    "\n",
    "    # Add similarity scores to the DataFrame\n",
    "    target_df['similarity'] = similarities.round(2)\n",
    "\n",
    "    # Sort by highest similarity\n",
    "    df_sorted = target_df.sort_values(by='similarity', ascending=False)\n",
    "\n",
    "    # most correlated value with price is sqft_living and we want to get the house closest to our target in terms of sqft_living\n",
    "    df_sorted[\"rank\"] = (df_sorted[\"sqft_living\"] - sqft_living_value).abs().rank(method=\"min\")\n",
    "    new_df = df_sorted.sort_values(by=\"rank\")\n",
    "    #print(new_df.head(2))\n",
    "\n",
    "    # set price value on the data_without_price_df. always pick the row with rank =1, index =0\n",
    "    # set price value on the original df(data). always pick the row with rank =1, index =0\n",
    "    data_without_price.at[val, \"price\"] = new_df['price'].iloc[0].item()\n",
    "    housing_df.at[orig_data_index, \"price\"] = new_df['price'].iloc[0].item()\n",
    "\n",
    "    #del df_sorted, target_df\n",
    "print(housing_df.isna().sum())   \n",
    "data_without_price\n",
    "\n"
   ]
  },
  {
   "cell_type": "code",
   "execution_count": 103,
   "metadata": {},
   "outputs": [
    {
     "data": {
      "text/html": [
       "<div>\n",
       "<style scoped>\n",
       "    .dataframe tbody tr th:only-of-type {\n",
       "        vertical-align: middle;\n",
       "    }\n",
       "\n",
       "    .dataframe tbody tr th {\n",
       "        vertical-align: top;\n",
       "    }\n",
       "\n",
       "    .dataframe thead th {\n",
       "        text-align: right;\n",
       "    }\n",
       "</style>\n",
       "<table border=\"1\" class=\"dataframe\">\n",
       "  <thead>\n",
       "    <tr style=\"text-align: right;\">\n",
       "      <th></th>\n",
       "      <th>count</th>\n",
       "      <th>mean</th>\n",
       "      <th>std</th>\n",
       "      <th>min</th>\n",
       "      <th>25%</th>\n",
       "      <th>50%</th>\n",
       "      <th>75%</th>\n",
       "      <th>max</th>\n",
       "    </tr>\n",
       "    <tr>\n",
       "      <th>Column Name</th>\n",
       "      <th></th>\n",
       "      <th></th>\n",
       "      <th></th>\n",
       "      <th></th>\n",
       "      <th></th>\n",
       "      <th></th>\n",
       "      <th></th>\n",
       "      <th></th>\n",
       "    </tr>\n",
       "  </thead>\n",
       "  <tbody>\n",
       "    <tr>\n",
       "      <th>price</th>\n",
       "      <td>19999.0</td>\n",
       "      <td>535515.736237</td>\n",
       "      <td>366146.371524</td>\n",
       "      <td>75000.0</td>\n",
       "      <td>317000.0</td>\n",
       "      <td>449900.0</td>\n",
       "      <td>640000.0</td>\n",
       "      <td>7700000.0</td>\n",
       "    </tr>\n",
       "    <tr>\n",
       "      <th>bedrooms</th>\n",
       "      <td>19999.0</td>\n",
       "      <td>3.366468</td>\n",
       "      <td>0.930131</td>\n",
       "      <td>1.0</td>\n",
       "      <td>3.0</td>\n",
       "      <td>3.0</td>\n",
       "      <td>4.0</td>\n",
       "      <td>33.0</td>\n",
       "    </tr>\n",
       "    <tr>\n",
       "      <th>bathrooms</th>\n",
       "      <td>19999.0</td>\n",
       "      <td>2.072941</td>\n",
       "      <td>0.761132</td>\n",
       "      <td>0.5</td>\n",
       "      <td>1.5</td>\n",
       "      <td>2.0</td>\n",
       "      <td>2.5</td>\n",
       "      <td>8.0</td>\n",
       "    </tr>\n",
       "    <tr>\n",
       "      <th>sqft_living</th>\n",
       "      <td>19999.0</td>\n",
       "      <td>2057.928396</td>\n",
       "      <td>905.618866</td>\n",
       "      <td>290.0</td>\n",
       "      <td>1420.0</td>\n",
       "      <td>1900.0</td>\n",
       "      <td>2510.0</td>\n",
       "      <td>13540.0</td>\n",
       "    </tr>\n",
       "    <tr>\n",
       "      <th>sqft_total</th>\n",
       "      <td>19999.0</td>\n",
       "      <td>15606.344317</td>\n",
       "      <td>41770.610377</td>\n",
       "      <td>520.0</td>\n",
       "      <td>5350.0</td>\n",
       "      <td>7819.0</td>\n",
       "      <td>11007.5</td>\n",
       "      <td>1651359.0</td>\n",
       "    </tr>\n",
       "    <tr>\n",
       "      <th>floors</th>\n",
       "      <td>19999.0</td>\n",
       "      <td>1.444872</td>\n",
       "      <td>0.516672</td>\n",
       "      <td>1.0</td>\n",
       "      <td>1.0</td>\n",
       "      <td>1.0</td>\n",
       "      <td>2.0</td>\n",
       "      <td>3.5</td>\n",
       "    </tr>\n",
       "    <tr>\n",
       "      <th>condition</th>\n",
       "      <td>19999.0</td>\n",
       "      <td>3.441772</td>\n",
       "      <td>0.665463</td>\n",
       "      <td>1.0</td>\n",
       "      <td>3.0</td>\n",
       "      <td>3.0</td>\n",
       "      <td>4.0</td>\n",
       "      <td>5.0</td>\n",
       "    </tr>\n",
       "    <tr>\n",
       "      <th>grade</th>\n",
       "      <td>19999.0</td>\n",
       "      <td>7.605730</td>\n",
       "      <td>1.172624</td>\n",
       "      <td>1.0</td>\n",
       "      <td>7.0</td>\n",
       "      <td>7.0</td>\n",
       "      <td>8.0</td>\n",
       "      <td>13.0</td>\n",
       "    </tr>\n",
       "    <tr>\n",
       "      <th>built</th>\n",
       "      <td>19999.0</td>\n",
       "      <td>1967.953198</td>\n",
       "      <td>28.316696</td>\n",
       "      <td>1900.0</td>\n",
       "      <td>1950.0</td>\n",
       "      <td>1969.0</td>\n",
       "      <td>1991.0</td>\n",
       "      <td>2015.0</td>\n",
       "    </tr>\n",
       "    <tr>\n",
       "      <th>renovated</th>\n",
       "      <td>19999.0</td>\n",
       "      <td>90.812041</td>\n",
       "      <td>415.947901</td>\n",
       "      <td>0.0</td>\n",
       "      <td>0.0</td>\n",
       "      <td>0.0</td>\n",
       "      <td>0.0</td>\n",
       "      <td>2015.0</td>\n",
       "    </tr>\n",
       "    <tr>\n",
       "      <th>living_area_sqft</th>\n",
       "      <td>19999.0</td>\n",
       "      <td>1974.183059</td>\n",
       "      <td>675.206168</td>\n",
       "      <td>399.0</td>\n",
       "      <td>1490.0</td>\n",
       "      <td>1830.0</td>\n",
       "      <td>2338.0</td>\n",
       "      <td>6210.0</td>\n",
       "    </tr>\n",
       "  </tbody>\n",
       "</table>\n",
       "</div>"
      ],
      "text/plain": [
       "                    count           mean            std      min       25%  \\\n",
       "Column Name                                                                  \n",
       "price             19999.0  535515.736237  366146.371524  75000.0  317000.0   \n",
       "bedrooms          19999.0       3.366468       0.930131      1.0       3.0   \n",
       "bathrooms         19999.0       2.072941       0.761132      0.5       1.5   \n",
       "sqft_living       19999.0    2057.928396     905.618866    290.0    1420.0   \n",
       "sqft_total        19999.0   15606.344317   41770.610377    520.0    5350.0   \n",
       "floors            19999.0       1.444872       0.516672      1.0       1.0   \n",
       "condition         19999.0       3.441772       0.665463      1.0       3.0   \n",
       "grade             19999.0       7.605730       1.172624      1.0       7.0   \n",
       "built             19999.0    1967.953198      28.316696   1900.0    1950.0   \n",
       "renovated         19999.0      90.812041     415.947901      0.0       0.0   \n",
       "living_area_sqft  19999.0    1974.183059     675.206168    399.0    1490.0   \n",
       "\n",
       "                       50%       75%        max  \n",
       "Column Name                                      \n",
       "price             449900.0  640000.0  7700000.0  \n",
       "bedrooms               3.0       4.0       33.0  \n",
       "bathrooms              2.0       2.5        8.0  \n",
       "sqft_living         1900.0    2510.0    13540.0  \n",
       "sqft_total          7819.0   11007.5  1651359.0  \n",
       "floors                 1.0       2.0        3.5  \n",
       "condition              3.0       4.0        5.0  \n",
       "grade                  7.0       8.0       13.0  \n",
       "built               1969.0    1991.0     2015.0  \n",
       "renovated              0.0       0.0     2015.0  \n",
       "living_area_sqft    1830.0    2338.0     6210.0  "
      ]
     },
     "execution_count": 103,
     "metadata": {},
     "output_type": "execute_result"
    }
   ],
   "source": [
    "housing_df.describe().T"
   ]
  },
  {
   "cell_type": "code",
   "execution_count": 109,
   "metadata": {},
   "outputs": [
    {
     "data": {
      "image/png": "[encoded data removed]",
      "text/plain": [
       "<Figure size 800x600 with 2 Axes>"
      ]
     },
     "metadata": {},
     "output_type": "display_data"
    }
   ],
   "source": [
    "corr_matrix = housing_df.corr()\n",
    "#You can choose a different colormap, such as 'viridis', 'plasma', etc.\n",
    "\n",
    "# Plot the heatmap\n",
    "plt.figure(figsize=(8, 6))\n",
    "sns.heatmap(corr_matrix[['price']], annot=True, cmap='viridis', vmin=0, vmax=1)\n",
    "plt.title(\"Correlation between 'price' and other columns\")\n",
    "plt.show()"
   ]
  },
  {
   "cell_type": "code",
   "execution_count": 113,
   "metadata": {},
   "outputs": [
    {
     "data": {
      "image/png": "[encoded data removed]",
      "text/plain": [
       "<Figure size 800x600 with 1 Axes>"
      ]
     },
     "metadata": {},
     "output_type": "display_data"
    }
   ],
   "source": [
    "# Plot histogram for 'price'\n",
    "plt.figure(figsize=(8, 6))\n",
    "sns.histplot(housing_df['bedrooms'],kde=False, color='blue', edgecolor='black')\n",
    "\n",
    "# Show count per bin\n",
    "plt.title('Histogram of Price with Bins')\n",
    "plt.xlabel('Price')\n",
    "plt.ylabel('Count')\n",
    "\n",
    "# Display plot/\n",
    "plt.show()"
   ]
  },
  {
   "cell_type": "code",
   "execution_count": null,
   "metadata": {},
   "outputs": [
    {
     "name": "stdout",
     "output_type": "stream",
     "text": [
      "price: p-value = 5.254257360154457e-102\n",
      "bedrooms: p-value = 6.102651774892385e-87\n",
      "bathrooms: p-value = 1.938214000357259e-68\n",
      "sqft_living: p-value = 7.956370246294424e-74\n",
      "sqft_total: p-value = 4.597981789140974e-128\n",
      "floors: p-value = 6.321380223941106e-100\n",
      "condition: p-value = 3.832242453426089e-101\n",
      "grade: p-value = 4.721741237787348e-79\n",
      "built: p-value = 3.320760473513796e-57\n",
      "renovated: p-value = 5.557467930736678e-129\n",
      "living_area_sqft: p-value = 1.4700789349367244e-68\n"
     ]
    }
   ],
   "source": [
    "for column in housing_df.columns:\n",
    "    stat, p = shapiro(housing_df[column])\n",
    "    print(f\"{column}: p-value = {p}\")\n",
    "# If p < 0.05, the data is not normally distributed."
   ]
  },
  {
   "cell_type": "code",
   "execution_count": null,
   "metadata": {},
   "outputs": [],
   "source": []
  }
 ],
 "metadata": {
  "kernelspec": {
   "display_name": "msc_ds",
   "language": "python",
   "name": "python3"
  },
  "language_info": {
   "codemirror_mode": {
    "name": "ipython",
    "version": 3
   },
   "file_extension": ".py",
   "mimetype": "text/x-python",
   "name": "python",
   "nbconvert_exporter": "python",
   "pygments_lexer": "ipython3",
   "version": "3.9.21"
  }
 },
 "nbformat": 4,
 "nbformat_minor": 2
}
