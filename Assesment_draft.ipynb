{
 "cells": [
  {
   "cell_type": "markdown",
   "id": "3c897783",
   "metadata": {},
   "source": [
    "### PREDICT CUSTOMER CREDIT SCORE"
   ]
  },
  {
   "cell_type": "code",
   "execution_count": 2,
   "id": "c9beb437",
   "metadata": {},
   "outputs": [],
   "source": [
    "import pandas as pd\n",
    "import numpy as np"
   ]
  },
  {
   "cell_type": "markdown",
   "id": "1ca337d5",
   "metadata": {},
   "source": [
    "### IMPORTING DATA\n",
    "#### import data and make a deep copy. all manipulation are performed on the copy"
   ]
  },
  {
   "cell_type": "code",
   "execution_count": 3,
   "id": "a5564494",
   "metadata": {},
   "outputs": [],
   "source": [
    "data = pd.read_excel(\"../SMART Banking data_4035.xlsx\")"
   ]
  },
  {
   "cell_type": "code",
   "execution_count": 4,
   "id": "2832e818",
   "metadata": {},
   "outputs": [
    {
     "data": {
      "text/html": [
       "<div>\n",
       "<style scoped>\n",
       "    .dataframe tbody tr th:only-of-type {\n",
       "        vertical-align: middle;\n",
       "    }\n",
       "\n",
       "    .dataframe tbody tr th {\n",
       "        vertical-align: top;\n",
       "    }\n",
       "\n",
       "    .dataframe thead th {\n",
       "        text-align: right;\n",
       "    }\n",
       "</style>\n",
       "<table border=\"1\" class=\"dataframe\">\n",
       "  <thead>\n",
       "    <tr style=\"text-align: right;\">\n",
       "      <th></th>\n",
       "      <th>customer_id</th>\n",
       "      <th>credit_score</th>\n",
       "      <th>country</th>\n",
       "      <th>gender</th>\n",
       "      <th>age</th>\n",
       "      <th>tenure</th>\n",
       "      <th>balance</th>\n",
       "      <th>estimated_salary</th>\n",
       "    </tr>\n",
       "  </thead>\n",
       "  <tbody>\n",
       "    <tr>\n",
       "      <th>0</th>\n",
       "      <td>1563462</td>\n",
       "      <td>619</td>\n",
       "      <td>France</td>\n",
       "      <td>Female</td>\n",
       "      <td>42</td>\n",
       "      <td>2</td>\n",
       "      <td>NaN</td>\n",
       "      <td>11348.88</td>\n",
       "    </tr>\n",
       "    <tr>\n",
       "      <th>1</th>\n",
       "      <td>15647311</td>\n",
       "      <td>68</td>\n",
       "      <td>Spain</td>\n",
       "      <td>Female</td>\n",
       "      <td>41</td>\n",
       "      <td>1</td>\n",
       "      <td>8387.86</td>\n",
       "      <td>112542.58</td>\n",
       "    </tr>\n",
       "    <tr>\n",
       "      <th>2</th>\n",
       "      <td>1561934</td>\n",
       "      <td>52</td>\n",
       "      <td>France</td>\n",
       "      <td>Female</td>\n",
       "      <td>42</td>\n",
       "      <td>8</td>\n",
       "      <td>15966.8</td>\n",
       "      <td>113931.57</td>\n",
       "    </tr>\n",
       "    <tr>\n",
       "      <th>3</th>\n",
       "      <td>1571354</td>\n",
       "      <td>699</td>\n",
       "      <td>France</td>\n",
       "      <td>Female</td>\n",
       "      <td>39</td>\n",
       "      <td>1</td>\n",
       "      <td>NaN</td>\n",
       "      <td>93826.63</td>\n",
       "    </tr>\n",
       "    <tr>\n",
       "      <th>4</th>\n",
       "      <td>15737888</td>\n",
       "      <td>85</td>\n",
       "      <td>Spain</td>\n",
       "      <td>Female</td>\n",
       "      <td>43</td>\n",
       "      <td>2</td>\n",
       "      <td>12551.82</td>\n",
       "      <td>7984.1</td>\n",
       "    </tr>\n",
       "  </tbody>\n",
       "</table>\n",
       "</div>"
      ],
      "text/plain": [
       "0 customer_id credit_score country  gender age tenure   balance  \\\n",
       "0     1563462          619  France  Female  42      2       NaN   \n",
       "1    15647311           68   Spain  Female  41      1   8387.86   \n",
       "2     1561934           52  France  Female  42      8   15966.8   \n",
       "3     1571354          699  France  Female  39      1       NaN   \n",
       "4    15737888           85   Spain  Female  43      2  12551.82   \n",
       "\n",
       "0 estimated_salary  \n",
       "0         11348.88  \n",
       "1        112542.58  \n",
       "2        113931.57  \n",
       "3         93826.63  \n",
       "4           7984.1  "
      ]
     },
     "execution_count": 4,
     "metadata": {},
     "output_type": "execute_result"
    }
   ],
   "source": [
    "customer_data = data.copy(deep=True)\n",
    "customer_data.columns = customer_data.iloc[0]\n",
    "customer_data = customer_data[1:]\n",
    "customer_data.reset_index(drop=True, inplace=True)\n",
    "customer_data.head()"
   ]
  },
  {
   "cell_type": "markdown",
   "id": "cb1846b9",
   "metadata": {},
   "source": [
    "### SHAPE OF THE DATA"
   ]
  },
  {
   "cell_type": "code",
   "execution_count": 5,
   "id": "587945ef",
   "metadata": {},
   "outputs": [
    {
     "name": "stdout",
     "output_type": "stream",
     "text": [
      "Rows: 2020, Columns: 8\n"
     ]
    }
   ],
   "source": [
    "rows, columns = customer_data.shape\n",
    "print(f\"Rows: {rows}, Columns: {columns}\")"
   ]
  },
  {
   "cell_type": "markdown",
   "id": "699ffcfe",
   "metadata": {},
   "source": [
    "### DATA EXPLORATION"
   ]
  },
  {
   "cell_type": "markdown",
   "id": "2fb7f6fa",
   "metadata": {},
   "source": [
    "### Data Types"
   ]
  },
  {
   "cell_type": "code",
   "execution_count": 6,
   "id": "8ead5fd8",
   "metadata": {},
   "outputs": [
    {
     "data": {
      "text/html": [
       "<div>\n",
       "<style scoped>\n",
       "    .dataframe tbody tr th:only-of-type {\n",
       "        vertical-align: middle;\n",
       "    }\n",
       "\n",
       "    .dataframe tbody tr th {\n",
       "        vertical-align: top;\n",
       "    }\n",
       "\n",
       "    .dataframe thead th {\n",
       "        text-align: right;\n",
       "    }\n",
       "</style>\n",
       "<table border=\"1\" class=\"dataframe\">\n",
       "  <thead>\n",
       "    <tr style=\"text-align: right;\">\n",
       "      <th></th>\n",
       "      <th>column</th>\n",
       "      <th>datatype</th>\n",
       "    </tr>\n",
       "  </thead>\n",
       "  <tbody>\n",
       "    <tr>\n",
       "      <th>0</th>\n",
       "      <td>customer_id</td>\n",
       "      <td>object</td>\n",
       "    </tr>\n",
       "    <tr>\n",
       "      <th>1</th>\n",
       "      <td>credit_score</td>\n",
       "      <td>object</td>\n",
       "    </tr>\n",
       "    <tr>\n",
       "      <th>2</th>\n",
       "      <td>country</td>\n",
       "      <td>object</td>\n",
       "    </tr>\n",
       "    <tr>\n",
       "      <th>3</th>\n",
       "      <td>gender</td>\n",
       "      <td>object</td>\n",
       "    </tr>\n",
       "    <tr>\n",
       "      <th>4</th>\n",
       "      <td>age</td>\n",
       "      <td>object</td>\n",
       "    </tr>\n",
       "    <tr>\n",
       "      <th>5</th>\n",
       "      <td>tenure</td>\n",
       "      <td>object</td>\n",
       "    </tr>\n",
       "    <tr>\n",
       "      <th>6</th>\n",
       "      <td>balance</td>\n",
       "      <td>object</td>\n",
       "    </tr>\n",
       "    <tr>\n",
       "      <th>7</th>\n",
       "      <td>estimated_salary</td>\n",
       "      <td>object</td>\n",
       "    </tr>\n",
       "  </tbody>\n",
       "</table>\n",
       "</div>"
      ],
      "text/plain": [
       "             column datatype\n",
       "0       customer_id   object\n",
       "1      credit_score   object\n",
       "2           country   object\n",
       "3            gender   object\n",
       "4               age   object\n",
       "5            tenure   object\n",
       "6           balance   object\n",
       "7  estimated_salary   object"
      ]
     },
     "execution_count": 6,
     "metadata": {},
     "output_type": "execute_result"
    }
   ],
   "source": [
    "dtypes_df = pd.DataFrame({\n",
    "    'column': customer_data.columns,\n",
    "    'datatype': customer_data.dtypes.values\n",
    "})\n",
    "dtypes_df"
   ]
  },
  {
   "cell_type": "markdown",
   "id": "39a45bec",
   "metadata": {},
   "source": [
    "##### Looking at the data, customer id, credit score, age, tenure, balance, estimated salary look like numbers\n",
    "##### Country, gender, tenure appear to be categorical"
   ]
  },
  {
   "cell_type": "code",
   "execution_count": 7,
   "id": "bd36fe65",
   "metadata": {},
   "outputs": [
    {
     "data": {
      "text/plain": [
       "0\n",
       "customer_id         2003\n",
       "credit_score         382\n",
       "country                3\n",
       "gender                 2\n",
       "age                   63\n",
       "tenure                 9\n",
       "balance             1309\n",
       "estimated_salary    2016\n",
       "dtype: int64"
      ]
     },
     "execution_count": 7,
     "metadata": {},
     "output_type": "execute_result"
    }
   ],
   "source": [
    "customer_data.nunique()"
   ]
  },
  {
   "cell_type": "markdown",
   "id": "ba8d6702",
   "metadata": {},
   "source": [
    "#### Missing values"
   ]
  },
  {
   "cell_type": "code",
   "execution_count": 8,
   "id": "93033b0d",
   "metadata": {},
   "outputs": [
    {
     "data": {
      "text/html": [
       "<div>\n",
       "<style scoped>\n",
       "    .dataframe tbody tr th:only-of-type {\n",
       "        vertical-align: middle;\n",
       "    }\n",
       "\n",
       "    .dataframe tbody tr th {\n",
       "        vertical-align: top;\n",
       "    }\n",
       "\n",
       "    .dataframe thead th {\n",
       "        text-align: right;\n",
       "    }\n",
       "</style>\n",
       "<table border=\"1\" class=\"dataframe\">\n",
       "  <thead>\n",
       "    <tr style=\"text-align: right;\">\n",
       "      <th></th>\n",
       "      <th>column</th>\n",
       "      <th>no_of_missing_values</th>\n",
       "      <th>percentages_of_missing_values</th>\n",
       "    </tr>\n",
       "  </thead>\n",
       "  <tbody>\n",
       "    <tr>\n",
       "      <th>0</th>\n",
       "      <td>customer_id</td>\n",
       "      <td>0</td>\n",
       "      <td>0.000000</td>\n",
       "    </tr>\n",
       "    <tr>\n",
       "      <th>1</th>\n",
       "      <td>credit_score</td>\n",
       "      <td>11</td>\n",
       "      <td>0.544554</td>\n",
       "    </tr>\n",
       "    <tr>\n",
       "      <th>2</th>\n",
       "      <td>country</td>\n",
       "      <td>0</td>\n",
       "      <td>0.000000</td>\n",
       "    </tr>\n",
       "    <tr>\n",
       "      <th>3</th>\n",
       "      <td>gender</td>\n",
       "      <td>0</td>\n",
       "      <td>0.000000</td>\n",
       "    </tr>\n",
       "    <tr>\n",
       "      <th>4</th>\n",
       "      <td>age</td>\n",
       "      <td>6</td>\n",
       "      <td>0.297030</td>\n",
       "    </tr>\n",
       "    <tr>\n",
       "      <th>5</th>\n",
       "      <td>tenure</td>\n",
       "      <td>82</td>\n",
       "      <td>4.059406</td>\n",
       "    </tr>\n",
       "    <tr>\n",
       "      <th>6</th>\n",
       "      <td>balance</td>\n",
       "      <td>711</td>\n",
       "      <td>35.198020</td>\n",
       "    </tr>\n",
       "    <tr>\n",
       "      <th>7</th>\n",
       "      <td>estimated_salary</td>\n",
       "      <td>0</td>\n",
       "      <td>0.000000</td>\n",
       "    </tr>\n",
       "  </tbody>\n",
       "</table>\n",
       "</div>"
      ],
      "text/plain": [
       "             column  no_of_missing_values  percentages_of_missing_values\n",
       "0       customer_id                     0                       0.000000\n",
       "1      credit_score                    11                       0.544554\n",
       "2           country                     0                       0.000000\n",
       "3            gender                     0                       0.000000\n",
       "4               age                     6                       0.297030\n",
       "5            tenure                    82                       4.059406\n",
       "6           balance                   711                      35.198020\n",
       "7  estimated_salary                     0                       0.000000"
      ]
     },
     "execution_count": 8,
     "metadata": {},
     "output_type": "execute_result"
    }
   ],
   "source": [
    "missing_values = pd.DataFrame({\n",
    "    'column': customer_data.columns,\n",
    "    'no_of_missing_values': customer_data.isna().sum(),\n",
    "    'percentages_of_missing_values': (customer_data.isna().sum()/len(customer_data)) * 100\n",
    "})\n",
    "missing_values = missing_values.reset_index(drop=True)\n",
    "missing_values"
   ]
  },
  {
   "cell_type": "markdown",
   "id": "6824e864",
   "metadata": {},
   "source": [
    "### check for rowns without any data"
   ]
  },
  {
   "cell_type": "code",
   "execution_count": 9,
   "id": "5dd468bb",
   "metadata": {},
   "outputs": [
    {
     "name": "stdout",
     "output_type": "stream",
     "text": [
      "Rows with no data:  0\n"
     ]
    }
   ],
   "source": [
    "nan_rows_count = customer_data.isna().all(axis=1).sum()\n",
    "print(\"Rows with no data: \",int(nan_rows_count))"
   ]
  },
  {
   "cell_type": "code",
   "execution_count": 10,
   "id": "bf6864a7",
   "metadata": {},
   "outputs": [
    {
     "name": "stdout",
     "output_type": "stream",
     "text": [
      "Number of rows with NaN values is:  773\n",
      "Percentage of rows with NaN values is:  38.26732673267327\n"
     ]
    }
   ],
   "source": [
    "customer_data_without_nan = customer_data.dropna()\n",
    "rows_with_nan_data = len(customer_data) - len(customer_data_without_nan)\n",
    "print(\"Number of rows with NaN values is: \",rows_with_nan_data)\n",
    "print(\"Percentage of rows with NaN values is: \",(rows_with_nan_data/len(customer_data))*100)"
   ]
  },
  {
   "cell_type": "markdown",
   "id": "f44e373c",
   "metadata": {},
   "source": [
    "### Assign numbers to values in country and gender columns bacause they are categorical"
   ]
  },
  {
   "cell_type": "code",
   "execution_count": 11,
   "id": "ca3b413b",
   "metadata": {},
   "outputs": [
    {
     "data": {
      "text/plain": [
       "array(['France', 'Spain', 'Germany'], dtype=object)"
      ]
     },
     "execution_count": 11,
     "metadata": {},
     "output_type": "execute_result"
    }
   ],
   "source": [
    "customer_data['country'].unique()"
   ]
  },
  {
   "cell_type": "code",
   "execution_count": 12,
   "id": "cc13098c",
   "metadata": {},
   "outputs": [
    {
     "data": {
      "text/plain": [
       "array(['Female', 'Male'], dtype=object)"
      ]
     },
     "execution_count": 12,
     "metadata": {},
     "output_type": "execute_result"
    }
   ],
   "source": [
    "customer_data['gender'].unique()"
   ]
  },
  {
   "cell_type": "code",
   "execution_count": 13,
   "id": "558fa9b5",
   "metadata": {},
   "outputs": [
    {
     "data": {
      "text/html": [
       "<div>\n",
       "<style scoped>\n",
       "    .dataframe tbody tr th:only-of-type {\n",
       "        vertical-align: middle;\n",
       "    }\n",
       "\n",
       "    .dataframe tbody tr th {\n",
       "        vertical-align: top;\n",
       "    }\n",
       "\n",
       "    .dataframe thead th {\n",
       "        text-align: right;\n",
       "    }\n",
       "</style>\n",
       "<table border=\"1\" class=\"dataframe\">\n",
       "  <thead>\n",
       "    <tr style=\"text-align: right;\">\n",
       "      <th></th>\n",
       "      <th>customer_id</th>\n",
       "      <th>credit_score</th>\n",
       "      <th>country</th>\n",
       "      <th>gender</th>\n",
       "      <th>age</th>\n",
       "      <th>tenure</th>\n",
       "      <th>balance</th>\n",
       "      <th>estimated_salary</th>\n",
       "    </tr>\n",
       "  </thead>\n",
       "  <tbody>\n",
       "    <tr>\n",
       "      <th>0</th>\n",
       "      <td>1563462</td>\n",
       "      <td>619</td>\n",
       "      <td>3</td>\n",
       "      <td>1</td>\n",
       "      <td>42</td>\n",
       "      <td>2</td>\n",
       "      <td>NaN</td>\n",
       "      <td>11348.88</td>\n",
       "    </tr>\n",
       "    <tr>\n",
       "      <th>1</th>\n",
       "      <td>15647311</td>\n",
       "      <td>68</td>\n",
       "      <td>2</td>\n",
       "      <td>1</td>\n",
       "      <td>41</td>\n",
       "      <td>1</td>\n",
       "      <td>8387.86</td>\n",
       "      <td>112542.58</td>\n",
       "    </tr>\n",
       "    <tr>\n",
       "      <th>2</th>\n",
       "      <td>1561934</td>\n",
       "      <td>52</td>\n",
       "      <td>3</td>\n",
       "      <td>1</td>\n",
       "      <td>42</td>\n",
       "      <td>8</td>\n",
       "      <td>15966.8</td>\n",
       "      <td>113931.57</td>\n",
       "    </tr>\n",
       "    <tr>\n",
       "      <th>3</th>\n",
       "      <td>1571354</td>\n",
       "      <td>699</td>\n",
       "      <td>3</td>\n",
       "      <td>1</td>\n",
       "      <td>39</td>\n",
       "      <td>1</td>\n",
       "      <td>NaN</td>\n",
       "      <td>93826.63</td>\n",
       "    </tr>\n",
       "    <tr>\n",
       "      <th>4</th>\n",
       "      <td>15737888</td>\n",
       "      <td>85</td>\n",
       "      <td>2</td>\n",
       "      <td>1</td>\n",
       "      <td>43</td>\n",
       "      <td>2</td>\n",
       "      <td>12551.82</td>\n",
       "      <td>7984.1</td>\n",
       "    </tr>\n",
       "  </tbody>\n",
       "</table>\n",
       "</div>"
      ],
      "text/plain": [
       "0 customer_id credit_score  country  gender age tenure   balance  \\\n",
       "0     1563462          619        3       1  42      2       NaN   \n",
       "1    15647311           68        2       1  41      1   8387.86   \n",
       "2     1561934           52        3       1  42      8   15966.8   \n",
       "3     1571354          699        3       1  39      1       NaN   \n",
       "4    15737888           85        2       1  43      2  12551.82   \n",
       "\n",
       "0 estimated_salary  \n",
       "0         11348.88  \n",
       "1        112542.58  \n",
       "2        113931.57  \n",
       "3         93826.63  \n",
       "4           7984.1  "
      ]
     },
     "execution_count": 13,
     "metadata": {},
     "output_type": "execute_result"
    }
   ],
   "source": [
    "# Define mappings\n",
    "country_map = {'Germany': 1, 'Spain': 2, 'France': 3}\n",
    "gender_map = {'Female': 1, 'Male': 2}\n",
    "\n",
    "# Apply mappings\n",
    "customer_data['country'] = customer_data['country'].map(country_map)\n",
    "customer_data['gender'] = customer_data['gender'].map(gender_map)\n",
    "customer_data.head()\n"
   ]
  },
  {
   "cell_type": "markdown",
   "id": "3d270e2e",
   "metadata": {},
   "source": [
    "# REPLACEMENT OF NAN\n",
    "### Column with most NaN is balance. Check if values are nomally distributed"
   ]
  },
  {
   "cell_type": "code",
   "execution_count": 14,
   "id": "5484e435",
   "metadata": {},
   "outputs": [
    {
     "name": "stdout",
     "output_type": "stream",
     "text": [
      "Shapiro-Wilk test: stat=0.082, p=0.000\n"
     ]
    }
   ],
   "source": [
    "from scipy.stats import shapiro\n",
    "\n",
    "stat, p = shapiro(customer_data['balance'].dropna())\n",
    "print('Shapiro-Wilk test: stat=%.3f, p=%.3f' % (stat, p))"
   ]
  },
  {
   "cell_type": "markdown",
   "id": "d04d193d",
   "metadata": {},
   "source": [
    "### p < 0.05. Data is not nomally distributed"
   ]
  },
  {
   "cell_type": "markdown",
   "id": "14618824",
   "metadata": {},
   "source": [
    "### USE KNN TO IMPUTE MISSING VALUES\n",
    "### SELECT COLUMNS TO SCALE\n",
    "### Scale only continous numerical columns. DROP CUSTOMER ID COLUMN"
   ]
  },
  {
   "cell_type": "code",
   "execution_count": 16,
   "id": "78180f4e",
   "metadata": {},
   "outputs": [],
   "source": [
    "numerical_cols = ['credit_score', 'age', 'balance', 'estimated_salary']   \n",
    "categorical_cols = ['country', 'gender','tenure']                      "
   ]
  },
  {
   "cell_type": "code",
   "execution_count": 17,
   "id": "2b905063",
   "metadata": {},
   "outputs": [
    {
     "data": {
      "text/html": [
       "<div>\n",
       "<style scoped>\n",
       "    .dataframe tbody tr th:only-of-type {\n",
       "        vertical-align: middle;\n",
       "    }\n",
       "\n",
       "    .dataframe tbody tr th {\n",
       "        vertical-align: top;\n",
       "    }\n",
       "\n",
       "    .dataframe thead th {\n",
       "        text-align: right;\n",
       "    }\n",
       "</style>\n",
       "<table border=\"1\" class=\"dataframe\">\n",
       "  <thead>\n",
       "    <tr style=\"text-align: right;\">\n",
       "      <th></th>\n",
       "      <th>credit_score</th>\n",
       "      <th>age</th>\n",
       "      <th>balance</th>\n",
       "      <th>estimated_salary</th>\n",
       "      <th>country</th>\n",
       "      <th>gender</th>\n",
       "      <th>tenure</th>\n",
       "    </tr>\n",
       "  </thead>\n",
       "  <tbody>\n",
       "    <tr>\n",
       "      <th>0</th>\n",
       "      <td>0.727488</td>\n",
       "      <td>0.5000</td>\n",
       "      <td>0.006503</td>\n",
       "      <td>0.050950</td>\n",
       "      <td>3.0</td>\n",
       "      <td>1.0</td>\n",
       "      <td>2.0</td>\n",
       "    </tr>\n",
       "    <tr>\n",
       "      <th>1</th>\n",
       "      <td>0.074645</td>\n",
       "      <td>0.4875</td>\n",
       "      <td>0.000585</td>\n",
       "      <td>0.505507</td>\n",
       "      <td>2.0</td>\n",
       "      <td>1.0</td>\n",
       "      <td>1.0</td>\n",
       "    </tr>\n",
       "    <tr>\n",
       "      <th>2</th>\n",
       "      <td>0.055687</td>\n",
       "      <td>0.5000</td>\n",
       "      <td>0.001114</td>\n",
       "      <td>0.511746</td>\n",
       "      <td>3.0</td>\n",
       "      <td>1.0</td>\n",
       "      <td>8.0</td>\n",
       "    </tr>\n",
       "    <tr>\n",
       "      <th>3</th>\n",
       "      <td>0.822275</td>\n",
       "      <td>0.4625</td>\n",
       "      <td>0.002656</td>\n",
       "      <td>0.421436</td>\n",
       "      <td>3.0</td>\n",
       "      <td>1.0</td>\n",
       "      <td>1.0</td>\n",
       "    </tr>\n",
       "    <tr>\n",
       "      <th>4</th>\n",
       "      <td>0.094787</td>\n",
       "      <td>0.5125</td>\n",
       "      <td>0.000876</td>\n",
       "      <td>0.035836</td>\n",
       "      <td>2.0</td>\n",
       "      <td>1.0</td>\n",
       "      <td>2.0</td>\n",
       "    </tr>\n",
       "  </tbody>\n",
       "</table>\n",
       "</div>"
      ],
      "text/plain": [
       "   credit_score     age   balance  estimated_salary  country  gender  tenure\n",
       "0      0.727488  0.5000  0.006503          0.050950      3.0     1.0     2.0\n",
       "1      0.074645  0.4875  0.000585          0.505507      2.0     1.0     1.0\n",
       "2      0.055687  0.5000  0.001114          0.511746      3.0     1.0     8.0\n",
       "3      0.822275  0.4625  0.002656          0.421436      3.0     1.0     1.0\n",
       "4      0.094787  0.5125  0.000876          0.035836      2.0     1.0     2.0"
      ]
     },
     "execution_count": 17,
     "metadata": {},
     "output_type": "execute_result"
    }
   ],
   "source": [
    "# Import\n",
    "from sklearn.preprocessing import MinMaxScaler, StandardScaler\n",
    "from sklearn.impute import KNNImputer\n",
    "\n",
    "# Scale only numeric columns\n",
    "scaler = MinMaxScaler()\n",
    "scaled_numeric_data = scaler.fit_transform(customer_data[numerical_cols])\n",
    "\n",
    "# Keep categorical columns as they are\n",
    "categorical_data = customer_data[categorical_cols].values\n",
    "\n",
    "full_data = np.hstack((scaled_numeric_data, categorical_data))\n",
    "\n",
    "# Apply KNN imputer on full data\n",
    "imputer = KNNImputer(n_neighbors=5)\n",
    "imputed_data = imputer.fit_transform(full_data)\n",
    "\n",
    "column_names = ['credit_score', 'age', 'balance', 'estimated_salary','country', 'gender','tenure']\n",
    "imputed_scaled_df = pd.DataFrame(imputed_data, columns= column_names)\n",
    "imputed_scaled_df.head()"
   ]
  },
  {
   "cell_type": "code",
   "execution_count": 18,
   "id": "2ee95044",
   "metadata": {},
   "outputs": [
    {
     "data": {
      "text/plain": [
       "(2020, 7)"
      ]
     },
     "execution_count": 18,
     "metadata": {},
     "output_type": "execute_result"
    }
   ],
   "source": [
    "imputed_scaled_df.shape"
   ]
  },
  {
   "cell_type": "code",
   "execution_count": 19,
   "id": "a90ff20c",
   "metadata": {},
   "outputs": [
    {
     "data": {
      "text/plain": [
       "credit_score        0\n",
       "age                 0\n",
       "balance             0\n",
       "estimated_salary    0\n",
       "country             0\n",
       "gender              0\n",
       "tenure              0\n",
       "dtype: int64"
      ]
     },
     "execution_count": 19,
     "metadata": {},
     "output_type": "execute_result"
    }
   ],
   "source": [
    "imputed_scaled_df.isna().sum()"
   ]
  },
  {
   "cell_type": "code",
   "execution_count": 20,
   "id": "213a9fde",
   "metadata": {},
   "outputs": [
    {
     "data": {
      "text/html": [
       "<div>\n",
       "<style scoped>\n",
       "    .dataframe tbody tr th:only-of-type {\n",
       "        vertical-align: middle;\n",
       "    }\n",
       "\n",
       "    .dataframe tbody tr th {\n",
       "        vertical-align: top;\n",
       "    }\n",
       "\n",
       "    .dataframe thead th {\n",
       "        text-align: right;\n",
       "    }\n",
       "</style>\n",
       "<table border=\"1\" class=\"dataframe\">\n",
       "  <thead>\n",
       "    <tr style=\"text-align: right;\">\n",
       "      <th></th>\n",
       "      <th>credit_score</th>\n",
       "      <th>age</th>\n",
       "      <th>balance</th>\n",
       "      <th>estimated_salary</th>\n",
       "    </tr>\n",
       "  </thead>\n",
       "  <tbody>\n",
       "    <tr>\n",
       "      <th>0</th>\n",
       "      <td>619.0</td>\n",
       "      <td>42.0</td>\n",
       "      <td>93101.008</td>\n",
       "      <td>11348.88</td>\n",
       "    </tr>\n",
       "    <tr>\n",
       "      <th>1</th>\n",
       "      <td>68.0</td>\n",
       "      <td>41.0</td>\n",
       "      <td>8387.860</td>\n",
       "      <td>112542.58</td>\n",
       "    </tr>\n",
       "    <tr>\n",
       "      <th>2</th>\n",
       "      <td>52.0</td>\n",
       "      <td>42.0</td>\n",
       "      <td>15966.800</td>\n",
       "      <td>113931.57</td>\n",
       "    </tr>\n",
       "    <tr>\n",
       "      <th>3</th>\n",
       "      <td>699.0</td>\n",
       "      <td>39.0</td>\n",
       "      <td>38038.282</td>\n",
       "      <td>93826.63</td>\n",
       "    </tr>\n",
       "    <tr>\n",
       "      <th>4</th>\n",
       "      <td>85.0</td>\n",
       "      <td>43.0</td>\n",
       "      <td>12551.820</td>\n",
       "      <td>7984.10</td>\n",
       "    </tr>\n",
       "  </tbody>\n",
       "</table>\n",
       "</div>"
      ],
      "text/plain": [
       "   credit_score   age    balance  estimated_salary\n",
       "0         619.0  42.0  93101.008          11348.88\n",
       "1          68.0  41.0   8387.860         112542.58\n",
       "2          52.0  42.0  15966.800         113931.57\n",
       "3         699.0  39.0  38038.282          93826.63\n",
       "4          85.0  43.0  12551.820           7984.10"
      ]
     },
     "execution_count": 20,
     "metadata": {},
     "output_type": "execute_result"
    }
   ],
   "source": [
    "# Inverse transform to get back original scale\n",
    "imputed_df = pd.DataFrame(scaler.inverse_transform(imputed_scaled_df[numerical_cols]), columns=numerical_cols)\n",
    "imputed_df.head()\n"
   ]
  },
  {
   "cell_type": "code",
   "execution_count": 21,
   "id": "f35958a7",
   "metadata": {},
   "outputs": [
    {
     "data": {
      "text/html": [
       "<div>\n",
       "<style scoped>\n",
       "    .dataframe tbody tr th:only-of-type {\n",
       "        vertical-align: middle;\n",
       "    }\n",
       "\n",
       "    .dataframe tbody tr th {\n",
       "        vertical-align: top;\n",
       "    }\n",
       "\n",
       "    .dataframe thead th {\n",
       "        text-align: right;\n",
       "    }\n",
       "</style>\n",
       "<table border=\"1\" class=\"dataframe\">\n",
       "  <thead>\n",
       "    <tr style=\"text-align: right;\">\n",
       "      <th></th>\n",
       "      <th>credit_score</th>\n",
       "      <th>age</th>\n",
       "      <th>balance</th>\n",
       "      <th>estimated_salary</th>\n",
       "      <th>country</th>\n",
       "      <th>gender</th>\n",
       "      <th>tenure</th>\n",
       "    </tr>\n",
       "  </thead>\n",
       "  <tbody>\n",
       "    <tr>\n",
       "      <th>0</th>\n",
       "      <td>619.0</td>\n",
       "      <td>42.0</td>\n",
       "      <td>93101.008</td>\n",
       "      <td>11348.88</td>\n",
       "      <td>3.0</td>\n",
       "      <td>1.0</td>\n",
       "      <td>2.0</td>\n",
       "    </tr>\n",
       "    <tr>\n",
       "      <th>1</th>\n",
       "      <td>68.0</td>\n",
       "      <td>41.0</td>\n",
       "      <td>8387.860</td>\n",
       "      <td>112542.58</td>\n",
       "      <td>2.0</td>\n",
       "      <td>1.0</td>\n",
       "      <td>1.0</td>\n",
       "    </tr>\n",
       "    <tr>\n",
       "      <th>2</th>\n",
       "      <td>52.0</td>\n",
       "      <td>42.0</td>\n",
       "      <td>15966.800</td>\n",
       "      <td>113931.57</td>\n",
       "      <td>3.0</td>\n",
       "      <td>1.0</td>\n",
       "      <td>8.0</td>\n",
       "    </tr>\n",
       "    <tr>\n",
       "      <th>3</th>\n",
       "      <td>699.0</td>\n",
       "      <td>39.0</td>\n",
       "      <td>38038.282</td>\n",
       "      <td>93826.63</td>\n",
       "      <td>3.0</td>\n",
       "      <td>1.0</td>\n",
       "      <td>1.0</td>\n",
       "    </tr>\n",
       "    <tr>\n",
       "      <th>4</th>\n",
       "      <td>85.0</td>\n",
       "      <td>43.0</td>\n",
       "      <td>12551.820</td>\n",
       "      <td>7984.10</td>\n",
       "      <td>2.0</td>\n",
       "      <td>1.0</td>\n",
       "      <td>2.0</td>\n",
       "    </tr>\n",
       "  </tbody>\n",
       "</table>\n",
       "</div>"
      ],
      "text/plain": [
       "   credit_score   age    balance  estimated_salary  country  gender  tenure\n",
       "0         619.0  42.0  93101.008          11348.88      3.0     1.0     2.0\n",
       "1          68.0  41.0   8387.860         112542.58      2.0     1.0     1.0\n",
       "2          52.0  42.0  15966.800         113931.57      3.0     1.0     8.0\n",
       "3         699.0  39.0  38038.282          93826.63      3.0     1.0     1.0\n",
       "4          85.0  43.0  12551.820           7984.10      2.0     1.0     2.0"
      ]
     },
     "execution_count": 21,
     "metadata": {},
     "output_type": "execute_result"
    }
   ],
   "source": [
    "imputed_scaled_df.update(imputed_df)\n",
    "imputed_scaled_df.head()\n"
   ]
  },
  {
   "cell_type": "code",
   "execution_count": 22,
   "id": "e9f70ffb",
   "metadata": {},
   "outputs": [],
   "source": [
    "imputed_scaled_df[['country','gender','tenure','age']] = imputed_scaled_df[['country','gender','tenure','age']].astype(int)"
   ]
  },
  {
   "cell_type": "code",
   "execution_count": 23,
   "id": "785c33f1",
   "metadata": {},
   "outputs": [],
   "source": [
    "customer_data = imputed_scaled_df"
   ]
  },
  {
   "cell_type": "markdown",
   "id": "d4821632",
   "metadata": {},
   "source": [
    "### DELETE REDUNDANT VARIABLES TO FREE UP SPACE"
   ]
  },
  {
   "cell_type": "code",
   "execution_count": 24,
   "id": "3751f5d0",
   "metadata": {},
   "outputs": [
    {
     "data": {
      "text/plain": [
       "0"
      ]
     },
     "execution_count": 24,
     "metadata": {},
     "output_type": "execute_result"
    }
   ],
   "source": [
    "import gc\n",
    "del imputed_data, imputed_df, imputed_scaled_df,categorical_data, scaled_numeric_data, full_data,column_names\n",
    "del gender_map, country_map, scaler, imputer, numerical_cols, categorical_cols\n",
    "\n",
    "gc.collect()"
   ]
  },
  {
   "cell_type": "code",
   "execution_count": 27,
   "id": "fb24403c",
   "metadata": {},
   "outputs": [
    {
     "data": {
      "text/html": [
       "<div>\n",
       "<style scoped>\n",
       "    .dataframe tbody tr th:only-of-type {\n",
       "        vertical-align: middle;\n",
       "    }\n",
       "\n",
       "    .dataframe tbody tr th {\n",
       "        vertical-align: top;\n",
       "    }\n",
       "\n",
       "    .dataframe thead th {\n",
       "        text-align: right;\n",
       "    }\n",
       "</style>\n",
       "<table border=\"1\" class=\"dataframe\">\n",
       "  <thead>\n",
       "    <tr style=\"text-align: right;\">\n",
       "      <th></th>\n",
       "      <th>column</th>\n",
       "      <th>no_of_missing_values</th>\n",
       "      <th>percentages_of_missing_values</th>\n",
       "    </tr>\n",
       "  </thead>\n",
       "  <tbody>\n",
       "    <tr>\n",
       "      <th>0</th>\n",
       "      <td>credit_score</td>\n",
       "      <td>0</td>\n",
       "      <td>0.0</td>\n",
       "    </tr>\n",
       "    <tr>\n",
       "      <th>1</th>\n",
       "      <td>age</td>\n",
       "      <td>0</td>\n",
       "      <td>0.0</td>\n",
       "    </tr>\n",
       "    <tr>\n",
       "      <th>2</th>\n",
       "      <td>balance</td>\n",
       "      <td>0</td>\n",
       "      <td>0.0</td>\n",
       "    </tr>\n",
       "    <tr>\n",
       "      <th>3</th>\n",
       "      <td>estimated_salary</td>\n",
       "      <td>0</td>\n",
       "      <td>0.0</td>\n",
       "    </tr>\n",
       "    <tr>\n",
       "      <th>4</th>\n",
       "      <td>country</td>\n",
       "      <td>0</td>\n",
       "      <td>0.0</td>\n",
       "    </tr>\n",
       "    <tr>\n",
       "      <th>5</th>\n",
       "      <td>gender</td>\n",
       "      <td>0</td>\n",
       "      <td>0.0</td>\n",
       "    </tr>\n",
       "    <tr>\n",
       "      <th>6</th>\n",
       "      <td>tenure</td>\n",
       "      <td>0</td>\n",
       "      <td>0.0</td>\n",
       "    </tr>\n",
       "  </tbody>\n",
       "</table>\n",
       "</div>"
      ],
      "text/plain": [
       "             column  no_of_missing_values  percentages_of_missing_values\n",
       "0      credit_score                     0                            0.0\n",
       "1               age                     0                            0.0\n",
       "2           balance                     0                            0.0\n",
       "3  estimated_salary                     0                            0.0\n",
       "4           country                     0                            0.0\n",
       "5            gender                     0                            0.0\n",
       "6            tenure                     0                            0.0"
      ]
     },
     "execution_count": 27,
     "metadata": {},
     "output_type": "execute_result"
    }
   ],
   "source": [
    "missing_values = pd.DataFrame({\n",
    "    'column': customer_data.columns,\n",
    "    'no_of_missing_values': customer_data.isna().sum(),\n",
    "    'percentages_of_missing_values': (customer_data.isna().sum()/len(customer_data)) * 100\n",
    "})\n",
    "missing_values = missing_values.reset_index(drop=True)\n",
    "missing_values"
   ]
  },
  {
   "cell_type": "code",
   "execution_count": null,
   "id": "b3c034ea",
   "metadata": {},
   "outputs": [],
   "source": []
  }
 ],
 "metadata": {
  "kernelspec": {
   "display_name": "msc_ds",
   "language": "python",
   "name": "python3"
  },
  "language_info": {
   "codemirror_mode": {
    "name": "ipython",
    "version": 3
   },
   "file_extension": ".py",
   "mimetype": "text/x-python",
   "name": "python",
   "nbconvert_exporter": "python",
   "pygments_lexer": "ipython3",
   "version": "3.9.21"
  }
 },
 "nbformat": 4,
 "nbformat_minor": 5
}
